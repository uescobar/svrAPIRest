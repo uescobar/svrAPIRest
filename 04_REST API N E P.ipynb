{
 "cells": [
  {
   "cell_type": "markdown",
   "id": "96ed22c6",
   "metadata": {},
   "source": [
    "01 Crear un usuario Linux con el nombre del usuario que se agregará a la base de datos y establecer un password para el usuario"
   ]
  },
  {
   "cell_type": "code",
   "execution_count": null,
   "id": "1c0152cf",
   "metadata": {},
   "outputs": [],
   "source": [
    "sudo adduser nombre_usuario"
   ]
  },
  {
   "cell_type": "code",
   "execution_count": null,
   "id": "3dd6e5aa",
   "metadata": {},
   "outputs": [],
   "source": [
    "sudo passwd nombre_usuario"
   ]
  },
  {
   "cell_type": "markdown",
   "id": "9603e559",
   "metadata": {},
   "source": [
    "02 Conectarse a la consola de postgresql\n",
    "\n",
    "Para conectarse a PostgreSQL con el rol postgres"
   ]
  },
  {
   "cell_type": "code",
   "execution_count": null,
   "id": "3e10d7f5",
   "metadata": {},
   "outputs": [],
   "source": [
    "sudo -i -u postgres"
   ]
  },
  {
   "cell_type": "markdown",
   "id": "44cba781",
   "metadata": {},
   "source": [
    "Y ahora nos podemos acceder a PostgreSQL usando el siguiente comando"
   ]
  },
  {
   "cell_type": "code",
   "execution_count": null,
   "id": "665e52ca",
   "metadata": {},
   "outputs": [],
   "source": [
    "psql template1"
   ]
  },
  {
   "cell_type": "markdown",
   "id": "5eaf49b0",
   "metadata": {},
   "source": [
    "Algunos comandos comunes en psql son los siguientes:\n",
    "\n",
    "* \\q ***Salir de la conexión psql***\n",
    "* \\c ***Conectar a una nueva base de datos***\n",
    "* \\dt ***Listar todas las tablas***\n",
    "* \\du ***Listar todos los roles***\n",
    "* \\list ***Listar las bases de datos***\n",
    "* \\conninfo ***Mostrar la base de datos y el usuario conectado***\n",
    "\n",
    "\n",
    "Los comandos en la shell de  PostgreSQL inician con  \\  (slash)"
   ]
  },
  {
   "cell_type": "markdown",
   "id": "5f19a1d7",
   "metadata": {},
   "source": [
    "Para conocer mas sobre el usuario que esta conectado en la base de datos se usa el comando"
   ]
  },
  {
   "cell_type": "code",
   "execution_count": null,
   "id": "b5950276",
   "metadata": {},
   "outputs": [],
   "source": [
    "\\conninfo"
   ]
  },
  {
   "cell_type": "markdown",
   "id": "9b761802",
   "metadata": {},
   "source": [
    "03 Crear una nueva cuenta de usuario (rol ó role) desde la shell psql.\n",
    "\n",
    "Un rol puede funcionar como un usuario o un grupo, un rol son los permisos que tiene una cuenta para ejecutar ciertas acciones en una base de datos"
   ]
  },
  {
   "cell_type": "code",
   "execution_count": null,
   "id": "95578c6f",
   "metadata": {},
   "outputs": [],
   "source": [
    "CREATE ROLE nombre_usuario WITH LOGIN PASSWORD 'contraseña_usuario';"
   ]
  },
  {
   "cell_type": "markdown",
   "id": "8f20bb68",
   "metadata": {},
   "source": [
    "La respuesta debe de regresar 'CREATE ROLE', sin embargo hasta el momento la cuenta no tiene permiso para realizar acciones. Así que vamos a darle permisos para crear una base de datos."
   ]
  },
  {
   "cell_type": "code",
   "execution_count": null,
   "id": "a34535f4",
   "metadata": {},
   "outputs": [],
   "source": [
    "ALTER ROLE nombre_usuario CREATEDB;"
   ]
  },
  {
   "cell_type": "markdown",
   "id": "2ee1c92f",
   "metadata": {},
   "source": [
    "La respuesta debe de regresar 'ALTER ROLE', y para ver los roles que se tienen en el servidor de base de datos, usaremos el siguiente comando"
   ]
  },
  {
   "cell_type": "code",
   "execution_count": null,
   "id": "619d97f0",
   "metadata": {},
   "outputs": [],
   "source": [
    "\\du"
   ]
  },
  {
   "cell_type": "markdown",
   "id": "337477f7",
   "metadata": {},
   "source": [
    "04 Crear una base de datos con psql, la base de datos se llama api"
   ]
  },
  {
   "cell_type": "code",
   "execution_count": null,
   "id": "a3b3e650",
   "metadata": {},
   "outputs": [],
   "source": [
    "CREATE DATABASE api;"
   ]
  },
  {
   "cell_type": "markdown",
   "id": "548c21bf",
   "metadata": {},
   "source": [
    "La respuesta debe regresar 'CREATE DATABASE'"
   ]
  },
  {
   "cell_type": "markdown",
   "id": "7aebc301",
   "metadata": {},
   "source": [
    "05 Otorgar todos los permisos sobre la base de datos al usuario 'nombre_usuario'"
   ]
  },
  {
   "cell_type": "code",
   "execution_count": null,
   "id": "c2d7120b",
   "metadata": {},
   "outputs": [],
   "source": [
    "GRANT ALL PRIVILEGES ON DATABASE api to nombre_usuario;"
   ]
  },
  {
   "cell_type": "markdown",
   "id": "31d15685",
   "metadata": {},
   "source": [
    "La respuesta debe regresar 'GRANT' y en seguida salimos de psql shell"
   ]
  },
  {
   "cell_type": "code",
   "execution_count": null,
   "id": "768cbbe4",
   "metadata": {},
   "outputs": [],
   "source": [
    "\\q"
   ]
  },
  {
   "cell_type": "markdown",
   "id": "aa3b394a",
   "metadata": {},
   "source": [
    "06 Probar el login del usuario que agregamos "
   ]
  },
  {
   "cell_type": "code",
   "execution_count": null,
   "id": "20519276",
   "metadata": {},
   "outputs": [],
   "source": [
    "su - nombre_usuario"
   ]
  },
  {
   "cell_type": "code",
   "execution_count": null,
   "id": "d6d68ad6",
   "metadata": {},
   "outputs": [],
   "source": [
    "psql -d api -U nombre_usuario"
   ]
  },
  {
   "cell_type": "markdown",
   "id": "24cdb3ab",
   "metadata": {},
   "source": [
    "Se debe mostrar un prompt como el que sigue\n",
    "\n",
    "api=> "
   ]
  },
  {
   "cell_type": "markdown",
   "id": "0068128a",
   "metadata": {},
   "source": [
    "07 crear una nueva tabla con SQL desde la psql shell\n",
    "\n",
    "Como comentario al query, SERIAL es una columna autoincrementable. PostgreSQL usará un generador de secuencias para generar el valor de la columna SERIAL una vez que se inserte una nueva fila.\n",
    "\n",
    "Así mismo, PRIMARY KEY es una columna de la tabla que debe contener un valor único el cual es usado para identificar cada una de las filas en la tabla de forma única.\n",
    "\n",
    "Si todo va bien, se muestra la leyenda 'CREATE TABLE'\n",
    "\n",
    "Como referencia adicional, en una base de datos, un schema (esquema) es una colección de tablas. Un esquema puede ademas contener vistas, indices, secuencias, tipos de datos, operadores y funciones.\n",
    "\n"
   ]
  },
  {
   "cell_type": "code",
   "execution_count": null,
   "id": "52199b45",
   "metadata": {},
   "outputs": [],
   "source": [
    "CREATE TABLE paises(\n",
    "    ID SERIAL PRIMARY KEY,\n",
    "    nombre VARCHAR(50),\n",
    "    capital VARCHAR(50)\n",
    ");"
   ]
  },
  {
   "cell_type": "markdown",
   "id": "14e885f6",
   "metadata": {},
   "source": [
    "Para verificar que la tabla se encuentre en la base de datos ejecutar el siguiente comando"
   ]
  },
  {
   "cell_type": "code",
   "execution_count": null,
   "id": "dbadf03e",
   "metadata": {},
   "outputs": [],
   "source": [
    "\\du"
   ]
  },
  {
   "cell_type": "markdown",
   "id": "787c4d4c",
   "metadata": {},
   "source": [
    "08 Insertar datos en la tabla"
   ]
  },
  {
   "cell_type": "code",
   "execution_count": null,
   "id": "9ed812ff",
   "metadata": {},
   "outputs": [],
   "source": [
    "INSERT INTO paises (nombre, capital)\n",
    "    VALUES ('Venezuela','Caracas'),\n",
    "    ('Colombia','Bogota'),\n",
    "    ('El Salvador','San Salvador'),\n",
    "    ('Canadá','Otawa'),\n",
    "    ('Alemania', 'Berlin'),\n",
    "    ('Egipto','El Cairo');"
   ]
  },
  {
   "cell_type": "markdown",
   "id": "c5cc7af9",
   "metadata": {},
   "source": [
    "Verificamos las inserciones con el siguiente comando"
   ]
  },
  {
   "cell_type": "code",
   "execution_count": null,
   "id": "2346fe48",
   "metadata": {},
   "outputs": [],
   "source": [
    "SELECT * FROM paises;"
   ]
  },
  {
   "cell_type": "markdown",
   "id": "81ded0f9",
   "metadata": {},
   "source": [
    "Ahora salimos de psql shell con el siguiente comando"
   ]
  },
  {
   "cell_type": "code",
   "execution_count": null,
   "id": "539843b4",
   "metadata": {},
   "outputs": [],
   "source": [
    "\\q"
   ]
  },
  {
   "cell_type": "markdown",
   "id": "93b17cd3",
   "metadata": {},
   "source": [
    "## Archivo package.json \n",
    "\n",
    "Un archivo package.json contiene metadatos relevantes del proyecto, se usa para dar información a npm que permite identificar el proyecto asi como manejar las dependencias del proyecto.\n",
    "\n",
    "Un archivo de este tipo puede ser creado manualmente o puede ser creado mediante el siguiente comando\n",
    "\n",
    "npm init -y\n",
    "\n",
    "Un paquete es un directorio con uno o más módulos dentro del mismo y además un archivo package.json que contiene metadatos del paquete.\n",
    "\n",
    "Un módulo es un único archivo de javascript que contiene algún tipo de funcionalidad (de tamaño razonable).\n",
    "\n",
    "Cada aplicación de node.js es un paquete que además debe contener un archivo package.json\n",
    "\n",
    "## JSON\n",
    "\n",
    "significa Javascript Object Notation\n",
    "\n",
    "Es un archivo en formato texto que contiene pares clave y valor. Por ejemplo, el nombre del paquete puede ser la clave y la versión del paquete puede ser el valor.\n",
    "\n",
    "Para crear el archivo package.json primero que nada se debe de crear el directorio del proyecto y posteriormente crear el archivo package.json dentro de ese directorio.\n",
    "\n",
    "09 El directorio del proyecto lo crearemos dentro del home del usuario que se creo en Linux para la base de datos"
   ]
  },
  {
   "cell_type": "code",
   "execution_count": null,
   "id": "f501dc03",
   "metadata": {},
   "outputs": [],
   "source": [
    "mkdir miapi"
   ]
  },
  {
   "cell_type": "code",
   "execution_count": null,
   "id": "597b011f",
   "metadata": {},
   "outputs": [],
   "source": [
    "cd miapi"
   ]
  },
  {
   "cell_type": "markdown",
   "id": "49aba4fc",
   "metadata": {},
   "source": [
    "10 Ahora usamos el comando para crear el archivo package.json, cabe señalar que la salida de ese comando muestra el contenido del archivo, que por supuesto se puede editar manualmente."
   ]
  },
  {
   "cell_type": "code",
   "execution_count": null,
   "id": "4497242c",
   "metadata": {},
   "outputs": [],
   "source": [
    "npm init -y"
   ]
  },
  {
   "cell_type": "markdown",
   "id": "8827494c",
   "metadata": {},
   "source": [
    "## Express\n",
    "\n",
    "Express es un framework construido en Node.js. Un framework es una guia para hacer algo (como una manera predefinida de hacer las cosas).\n",
    "\n",
    "Express es flexible, y provee funciones robustas para el desarrollo web y de aplicaciones móviles.\n",
    "\n",
    "***Dentro del directorio del proyecto instalaremos con el siguiente comando.***\n",
    "\n",
    "La opcion save, guardará la dependencia dentro del archivo package.json, además se crea el directorio node_modules, el cual contiene librerías descargadas desde el node package manager, y son definidas para su instalación dentro del archivo package.json. Además se agrega el archivo package-lock.json y que es escrito cuando se detecta cualquier cambio de valor numérico dentro del archivo package.json, tales como la versión. \n",
    "\n",
    "10 instalación de express  estas es una prueba"
   ]
  },
  {
   "cell_type": "code",
   "execution_count": null,
   "id": "53681506",
   "metadata": {},
   "outputs": [],
   "source": [
    "npm install express --save"
   ]
  },
  {
   "cell_type": "markdown",
   "id": "5d5577fe",
   "metadata": {},
   "source": [
    "kasdmasdasdasd"
   ]
  }
 ],
 "metadata": {
  "kernelspec": {
   "display_name": "Bash",
   "language": "bash",
   "name": "bash"
  },
  "language_info": {
   "codemirror_mode": "shell",
   "file_extension": ".sh",
   "mimetype": "text/x-sh",
   "name": "bash"
  }
 },
 "nbformat": 4,
 "nbformat_minor": 5
}
