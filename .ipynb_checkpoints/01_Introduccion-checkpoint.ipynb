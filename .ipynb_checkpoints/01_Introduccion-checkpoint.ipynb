{
 "cells": [
  {
   "cell_type": "markdown",
   "id": "9f59f61a",
   "metadata": {},
   "source": [
    "# INTRODUCCIÓN\n",
    "\n",
    "En los presentes apuntes se mostrará cómo realizar la configuración de un API y API REST en un servidor Linux"
   ]
  },
  {
   "cell_type": "markdown",
   "id": "c44a4b18",
   "metadata": {},
   "source": [
    "## ¿Qué es un API?\n",
    "\n",
    "API significa Application Programming Interface, es básicamente un conjunto de reglas o código de computadora que permite a los programas comunicarse con otros. Un ejemplo de API es cuando se compran productos en internet usando una tarjeta de crédito.\n",
    "\n",
    "https://computersciencewiki.org/images/b/bc/Api.png\n",
    "\n",
    "De tal forma que el API funciona como un puente o una puerta de comunicación entre diferentes plataformas."
   ]
  },
  {
   "cell_type": "markdown",
   "id": "485a2e65",
   "metadata": {},
   "source": [
    "## ¿Qué es un API REST?\n",
    "\n",
    "También conocida como una RESTful API es una interfaz de programa de aplicación (API o web API) que realiza operaciones condicionadas a a la arquitectura REST y sigue la interaccion de servicios web RESTful.\n",
    "\n",
    "REST significa la trasferencia de estado representacional y fue creada por el  cientifico de computadoras Roy Fielding.\n",
    "\n",
    "Un API es un conjunto de definiciones y protocolos para construir e integrar aplicaciones de software. Algunas veces se refiere como un contrato entre un proveedor de información y un usuario de la información (estableciendo el contenido requerido por el consumidor ***La llamada*** y el contenido requerido por el productor ***La respuesta***).\n",
    "\n",
    "Por ejemplo, el API diseñado por el proveedor del servicio del clima podría especificar que el usuario indique un código postal y el productor responda con un mensaje de dos partes, el primero que indique la temperatura máxima, y el segundo que indique la temperatura mínima.\n",
    "\n",
    "En otras palabras, si se desea interactuar con una computadora o sistema para recuperar información o realizar una función, una API ayuda a comunicar lo que se desea a aquel sistema de que se trate de tal forma que pueda entender y cumplimentar la petición.\n",
    "\n",
    "Podrías pensar que una API es un mediador entre el usuario o el cliente y los recursos o servicios web que desean obtener. Y además, una forma en la que una organización comparte recursos e información manteniendo la seguridad, control y autenticación - determinando quien tiene acceso a qué información.\n",
    "\n",
    "Otra ventaja de un API es que no es necesario saber más detalles de cómo se encuentra implementada -por ejemplo, no se necesita conocer de donde viene la información, ni cómo se realiza la recuperación de la misma. "
   ]
  },
  {
   "cell_type": "markdown",
   "id": "7997dd23",
   "metadata": {},
   "source": [
    "## REST\n",
    "\n"
   ]
  }
 ],
 "metadata": {
  "kernelspec": {
   "display_name": "Bash",
   "language": "bash",
   "name": "bash"
  },
  "language_info": {
   "codemirror_mode": "shell",
   "file_extension": ".sh",
   "mimetype": "text/x-sh",
   "name": "bash"
  }
 },
 "nbformat": 4,
 "nbformat_minor": 5
}
