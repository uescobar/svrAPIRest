{
 "cells": [
  {
   "cell_type": "markdown",
   "id": "032e39b9",
   "metadata": {},
   "source": [
    "### Crear un entorno virtual\n",
    "\n",
    "Un entorno virtual es un ambiente Python aislado, permite instalar paquetes de Python en un ambiente autocontenido. Un entorno virtual, básicamente, es una copia del interprete de Python que puede ser usado para instalar paquetes sin afectar el ambiente global del interprete de Python instalado en el sistema.\n",
    "\n",
    "Crear un ambiente virtual para cada proyecto asegura que las aplicaciones tendrán acceso únicamente a los paquetes que usan, mientras que el interprete global permanece puro y limpio sirviendo como origen desde el cual pueden ser creados muchos ambientes virtuales mas.\n",
    "\n",
    "Hay distintos paquetes que pueden ser usadons para crear entornos virtuales, uno de ellos es el paquete  **virtualenv**. Este paquete debe ser instalado antes de que pueda ser usado.\n",
    "\n",
    "Python tiene integrado un módulo llamado **venv** que puede ser usado para crear y administrar entornos virtuales. Este paquete ya se encuentra instalado y listo para usarse."
   ]
  },
  {
   "cell_type": "markdown",
   "id": "c1699905",
   "metadata": {},
   "source": [
    "01 antes de crear el entorno virtual se debe crear el directorio en donde el proyecto va a vivir, y dentro de este directorio es donde se va a crear y activar el entorno virtual."
   ]
  },
  {
   "cell_type": "code",
   "execution_count": null,
   "id": "6d33b935",
   "metadata": {},
   "outputs": [],
   "source": [
    "mkdir ~/paisesAPI"
   ]
  },
  {
   "cell_type": "markdown",
   "id": "c027926b",
   "metadata": {},
   "source": [
    "Para crear un nuevo ambiente virtual usando el módulo venv, se debe crear el directorio del proyecto, ingresar al directorio del proyecto"
   ]
  },
  {
   "cell_type": "code",
   "execution_count": null,
   "id": "25e8da39",
   "metadata": {},
   "outputs": [],
   "source": [
    "cd ~/paisesAPI"
   ]
  },
  {
   "cell_type": "markdown",
   "id": "e31719ef",
   "metadata": {},
   "source": [
    "Instalar el programa para crear ambientes virtuales en python"
   ]
  },
  {
   "cell_type": "code",
   "execution_count": null,
   "id": "826f7153",
   "metadata": {},
   "outputs": [],
   "source": [
    "sudo apt-get install python3-venv"
   ]
  },
  {
   "cell_type": "markdown",
   "id": "556d1319",
   "metadata": {},
   "source": [
    "y ejecutar el comando siguiente dando un nombre al entorno virtual, en este caso, se llama tambien venv"
   ]
  },
  {
   "cell_type": "code",
   "execution_count": null,
   "id": "b6813194",
   "metadata": {},
   "outputs": [],
   "source": [
    "python3 -m venv venv"
   ]
  },
  {
   "cell_type": "markdown",
   "id": "51a957c7",
   "metadata": {},
   "source": [
    "despues de que el entorno virtual ha sido creado, el prompt regresa al directorio, en donde se encontrará el un directorio llamado venv que dentro contiene mas directorios, pero uno en particular, llamado bin, contiene el archivo activate el cuál hay que ejecutar para activar el entorno virtual, y se realiza de la siguiente manera:"
   ]
  },
  {
   "cell_type": "code",
   "execution_count": null,
   "id": "aa26682c",
   "metadata": {},
   "outputs": [],
   "source": [
    "source venv/bin/activate"
   ]
  },
  {
   "cell_type": "markdown",
   "id": "56953848",
   "metadata": {},
   "source": [
    "después de que el ambiente virtual ha sido activado, en el prompt, se verá el nombre del ambiente virtual dentro de paréntesis. Si se desea desactivar el ambiente virtual solo hay que ejecutar el siguiente comando y entonces, luego de que el ambiente ha sido desactivado,  el nombre del ambiente virtual desaparece del paréntesis."
   ]
  },
  {
   "cell_type": "raw",
   "id": "6b5d4b7d",
   "metadata": {},
   "source": [
    "deactivate"
   ]
  },
  {
   "cell_type": "markdown",
   "id": "1bf8ffe8",
   "metadata": {},
   "source": [
    "El comando anterior (deactivate) solo lo ejecutaremos cuando ya no vayamos a usar el entorno virtual"
   ]
  },
  {
   "cell_type": "markdown",
   "id": "455c2e52",
   "metadata": {},
   "source": [
    "Debemos asegurarnos de estar en el directorio de paisesAPI (comando pwd) y debemos acualizar el programa pip, que es el manejador estándar de paquetes y que permite instalar y administrar los paquetes adicionales de python que no son parte de la librería estandar de python. La actualización se realiza ejecutando el siguiente comando, previamente deberá haber desactivado el ambiente virtual (deactivate)"
   ]
  },
  {
   "cell_type": "code",
   "execution_count": null,
   "id": "f3490cf4",
   "metadata": {},
   "outputs": [],
   "source": [
    "python3 -m pip install --upgrade pip"
   ]
  },
  {
   "cell_type": "markdown",
   "id": "9c1477d7",
   "metadata": {},
   "source": [
    "Ahora procedemos a activar el ambiente virtual"
   ]
  },
  {
   "cell_type": "code",
   "execution_count": null,
   "id": "9d1bc3bf",
   "metadata": {},
   "outputs": [],
   "source": [
    "source venv/bin/activate"
   ]
  },
  {
   "cell_type": "markdown",
   "id": "df4b9964",
   "metadata": {},
   "source": [
    "procedemos a instalar django"
   ]
  },
  {
   "cell_type": "code",
   "execution_count": null,
   "id": "27e3af83",
   "metadata": {},
   "outputs": [],
   "source": [
    "pip install django"
   ]
  },
  {
   "cell_type": "markdown",
   "id": "aa756e9e",
   "metadata": {},
   "source": [
    "Una vez que django ha sido instalado, es momento de comprobar su versión"
   ]
  },
  {
   "cell_type": "code",
   "execution_count": null,
   "id": "102c7c12",
   "metadata": {},
   "outputs": [],
   "source": [
    "python -m django --version"
   ]
  },
  {
   "cell_type": "markdown",
   "id": "e30dd5d7",
   "metadata": {},
   "source": [
    "03 Instalar Django REST framework, Django REST framework es un entorno potente y flexible para construir web APIs, debe ser instalado dentro del ambiente virtual activado"
   ]
  },
  {
   "cell_type": "code",
   "execution_count": null,
   "id": "a49a7ccd",
   "metadata": {},
   "outputs": [],
   "source": [
    "pip install djangorestframework"
   ]
  },
  {
   "cell_type": "markdown",
   "id": "8275dc52",
   "metadata": {},
   "source": [
    "04 Instalar y configurar CORS, que significa Cross Origin Resource Sharing y permite a las aplicaciones cliente usar las interfaces de las API que estan hospedadas en diferentes dominios, lo que hace es habilitar a los navegadores web hacer un bypass la misma política de origen que etá reforzada por defecto causando el agregado de encabezados por defecto que le dice al navegador web si está autorizado para enciar o recibir peticiones desde diferentes dominios, además, habilita la realización de peticiones desde otros origenes. Se puede habilitar CORS en django usando la herramienta de gestión de paquetes django-cors-headers, pero hay que instalarlo "
   ]
  },
  {
   "cell_type": "code",
   "execution_count": null,
   "id": "8c42a4d1",
   "metadata": {},
   "outputs": [],
   "source": [
    "pip install django-cors-headers"
   ]
  },
  {
   "cell_type": "markdown",
   "id": "e993b004",
   "metadata": {},
   "source": [
    "Para configurar CORS necesitamos entrar al archivo de confguración dentro del archivo setting.py dentro del proyecto django para especificar lo que debe ser permitido para accessar la aplicación django, un ejemplo es el siguiente:\n",
    "\n",
    "\n",
    "CORS_ORIGIN_ALLOW_ALL = False\n",
    "CORS_ORIGIN_WHITELIST = {'http://localhost:8080'\n",
    "}\n",
    "\n",
    "estas líneas se agregan al final del archivo.\n",
    "\n",
    "Las líneas anteriores provocan que solo las URLs que están en la lista blanca puedan acceder a los recursos publicados en el puerto 8080.\n",
    "\n",
    "Si se desea que la aplicación django sea accesible desde todos los origenes, cambiar el False por True y no sería necesaria la última línea."
   ]
  }
 ],
 "metadata": {
  "kernelspec": {
   "display_name": "Bash",
   "language": "bash",
   "name": "bash"
  },
  "language_info": {
   "codemirror_mode": "shell",
   "file_extension": ".sh",
   "mimetype": "text/x-sh",
   "name": "bash"
  }
 },
 "nbformat": 4,
 "nbformat_minor": 5
}
