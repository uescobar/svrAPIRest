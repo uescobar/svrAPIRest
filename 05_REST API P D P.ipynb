{
 "cells": [
  {
   "cell_type": "markdown",
   "id": "032e39b9",
   "metadata": {},
   "source": [
    "### Crear un entorno virtual\n",
    "\n",
    "Un entorno virtual es un ambiente Python aislado, permite instalar paquetes de Python en un ambiente autocontenido. Un entorno virtual, básicamente, es una copia del interprete de Python que puede ser usado para instalar paquetes sin afectar el ambiente global del interprete de Python instalado en el sistema.\n",
    "\n",
    "Crear un ambiente virtual para cada proyecto asegura que las aplicaciones tendrán acceso únicamente a los paquetes que usan, mientras que el interprete global permanece puro y limpio sirviendo como origen desde el cual pueden ser creados muchos ambientes virtuales mas.\n",
    "\n",
    "Hay distintos paquetes que pueden ser usadons para crear entornos virtuales, uno de ellos es el paquete  **virtualenv**. Este paquete debe ser instalado antes de que pueda ser usado.\n",
    "\n",
    "Python tiene integrado un módulo llamado **venv** que puede ser usado para crear y administrar entornos virtuales. Este paquete ya se encuentra instalado y listo para usarse."
   ]
  },
  {
   "cell_type": "markdown",
   "id": "c1699905",
   "metadata": {},
   "source": [
    "01 antes de crear el entorno virtual se debe crear el directorio en donde el proyecto va a vivir, y dentro de este directorio es donde se va a crear y activar el entorno virtual."
   ]
  },
  {
   "cell_type": "code",
   "execution_count": null,
   "id": "6d33b935",
   "metadata": {},
   "outputs": [],
   "source": [
    "mkdir ~/paisesAPI"
   ]
  },
  {
   "cell_type": "markdown",
   "id": "c027926b",
   "metadata": {},
   "source": [
    "Para crear un nuevo ambiente virtual usando el módulo venv, se debe crear el directorio del proyecto, ingresar al directorio del proyecto"
   ]
  },
  {
   "cell_type": "code",
   "execution_count": null,
   "id": "25e8da39",
   "metadata": {},
   "outputs": [],
   "source": [
    "cd ~/paisesAPI"
   ]
  },
  {
   "cell_type": "markdown",
   "id": "556d1319",
   "metadata": {},
   "source": [
    "y ejecutar el comando siguiente dando un nombre al entorno virtual, en este caso, se llama tambien venv"
   ]
  },
  {
   "cell_type": "code",
   "execution_count": null,
   "id": "b6813194",
   "metadata": {},
   "outputs": [],
   "source": [
    "python3 -m venv venv"
   ]
  },
  {
   "cell_type": "markdown",
   "id": "51a957c7",
   "metadata": {},
   "source": [
    "despues de que el entorno virtual ha sido creado, el prompt regresa al directorio, en donde se encontrará el un directorio llamado venv que dentro contiene mas directorios, pero uno en particular, llamado bin, contiene el archivo activate el cuál hay que ejecutar para activar el entorno virtual, y se realiza de la siguiente manera:"
   ]
  },
  {
   "cell_type": "code",
   "execution_count": null,
   "id": "aa26682c",
   "metadata": {},
   "outputs": [],
   "source": [
    "source venv/bin/activate"
   ]
  },
  {
   "cell_type": "markdown",
   "id": "56953848",
   "metadata": {},
   "source": [
    "después de que el ambiente virtual ha sido activado, en el prompt, se verá el nombre del ambiente virtual dentro de paréntesis. Si se desea desactivar el ambiente virtual solo hay que ejecutar el siguiente comando y entonces, luego de que el ambiente ha sido desactivado,  el nombre del ambiente virtual desaparece del paréntesis."
   ]
  },
  {
   "cell_type": "raw",
   "id": "6b5d4b7d",
   "metadata": {},
   "source": [
    "deactivate"
   ]
  },
  {
   "cell_type": "code",
   "execution_count": null,
   "id": "40aadd8b",
   "metadata": {},
   "outputs": [],
   "source": []
  },
  {
   "cell_type": "code",
   "execution_count": null,
   "id": "adcfa28d",
   "metadata": {},
   "outputs": [],
   "source": []
  }
 ],
 "metadata": {
  "kernelspec": {
   "display_name": "Bash",
   "language": "bash",
   "name": "bash"
  },
  "language_info": {
   "codemirror_mode": "shell",
   "file_extension": ".sh",
   "mimetype": "text/x-sh",
   "name": "bash"
  }
 },
 "nbformat": 4,
 "nbformat_minor": 5
}
