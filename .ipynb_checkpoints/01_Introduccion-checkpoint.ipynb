{
 "cells": [
  {
   "cell_type": "markdown",
   "id": "9f59f61a",
   "metadata": {},
   "source": [
    "# INTRODUCCIÓN\n",
    "\n",
    "En los presentes apuntes se mostrará cómo realizar la configuración de un API y API REST en un servidor Linux"
   ]
  },
  {
   "cell_type": "markdown",
   "id": "c44a4b18",
   "metadata": {},
   "source": [
    "## ¿Qué es un API?\n",
    "\n",
    "API significa Application Programming Interface, es básicamente un conjunto de reglas o código de computadora que permite a los programas comunicarse con otros. Un ejemplo de API es cuando se compran productos en internet usando una tarjeta de crédito.\n",
    "\n",
    "https://computersciencewiki.org/images/b/bc/Api.png\n",
    "\n",
    "De tal forma que el API funciona como un puente o una puerta de comunicación entre diferentes plataformas."
   ]
  },
  {
   "cell_type": "markdown",
   "id": "485a2e65",
   "metadata": {},
   "source": [
    "## ¿Qué es un API REST?\n",
    "\n",
    "También conocida como una RESTful API es una interfaz de programa de aplicación (API o web API) que realiza operaciones condicionadas a a la arquitectura REST y sigue la interaccion de servicios web RESTful.\n",
    "\n",
    "REST significa la trasferencia de estado representacional y fue creada por el  cientifico de computadoras Roy Fielding.\n",
    "\n",
    "Un API es un conjunto de definiciones y protocolos para construir e integrar aplicaciones de software. Algunas veces se refiere como un contrato entre un proveedor de información y un usuario de la información (estableciendo el contenido requerido por el consumidor ***La llamada*** y el contenido requerido por el productor ***La respuesta***).\n",
    "\n",
    "Por ejemplo, el API diseñado por el proveedor del servicio del clima podría especificar que el usuario indique un código postal y el productor responda con un mensaje de dos partes, el primero que indique la temperatura máxima, y el segundo que indique la temperatura mínima.\n",
    "\n",
    "En otras palabras, si se desea interactuar con una computadora o sistema para recuperar información o realizar una función, una API ayuda a comunicar lo que se desea a aquel sistema de que se trate de tal forma que pueda entender y cumplimentar la petición.\n",
    "\n",
    "Podrías pensar que una API es un mediador entre el usuario o el cliente y los recursos o servicios web que desean obtener. Y además, una forma en la que una organización comparte recursos e información manteniendo la seguridad, control y autenticación - determinando quien tiene acceso a qué información.\n",
    "\n",
    "Otra ventaja de un API es que no es necesario saber más detalles de cómo se encuentra implementada -por ejemplo, no se necesita conocer de donde viene la información, ni cómo se realiza la recuperación de la misma. "
   ]
  },
  {
   "cell_type": "markdown",
   "id": "41615d46",
   "metadata": {},
   "source": [
    "## REST\n",
    "\n",
    "REST es un conjunto de reglas de arquitectura, no es un protocolo o un standar. Los desarrolladores de API pueden implementar REST en una gran variedad de maneras.\n",
    "\n",
    "Cuando un cliente realiza una petición vía RESTful API, transfiere la representación del estado de un recurso hacia quien realiza la petición o terminal. Esta información, o representación, es enviada en uno o varios formatos vía HTTP: JSON (Javascript Object Notation), HTML, XLT, Python, PHP, o texto plano. JSON es la forma más general de uso porque, a pesar de su nombre, no es dependiente de un lenguaje, además es perfectamente legible tanto para seres humanos como para computadoras.\n",
    "\n",
    "Algo mas para tener en cuenta: Los encabezados y parámetros también son importantes en los métodos HTTP de un RESTful API y en su petición HTTP, ya que contienen información importante de identificación tales como: metadatos, autorización, identificador uniforme de recursos (URI), catching, cookies, y mucho más. Hay encabezaddos de petición y encabezados de respuesta, cada uno con sus propia información de conexión y códigos de status.\n",
    "\n",
    "Para que una API sea considerada RESTful, debe cumplir los siguientes criterios:\n",
    "\n",
    "* Debe proporcionar una arquitectura cliente-servidor, hecha de clientes, servidores y recursos, con peticiones manejadas a través de HTTP.\n",
    "\n",
    "* Comunicación cliente-servidor sin estado (Stateless), lo que significa que no se almacena la información del cliente entre las peticiones get y cada petición es separada y no tiene conexión con alguna otra.\n",
    "\n",
    "* Los datos son Cacheables, lo que simplifica las interacciones cliente-servidor.\n",
    "\n",
    "* Una interface uniforme entre los componentes tal que la información es transferida de una forma estándar. Esto requiere que:\n",
    "\n",
    "    * los recursos pedidos son identificables y separados de las representaciones enviadas a los clientes.\n",
    "    \n",
    "    * los recursos pueden ser manipulados por los clientes por medio de la representación que reciben porque la representación contiene suficiente información para hacerlo.\n",
    "    \n",
    "    * mensajes autodescriptivos regresados a los clientes tienne suficiente información para describir como un cliente debe procesarlo.\n",
    "    \n",
    "    * hipertexto/hipermedia está disponible, significando que despues de acceder a un recurso el cliente debería ser capaz de usar hipervínculos para encontrar cualquier otra acción disponible que pueda tomar.\n",
    " \n",
    "* Un sistema elaborado por capas jerárquicas invisibles al cliente, que organiza cada tipo de servidor (aquellos responsables de la seguridad, el balanceo de carga, etc) involucrado en la recuperación de la información requerida.\n",
    "\n",
    "* Código bajo demanda (opcional): la habilidad de enviar código ejecutable del servidor al cliente cuando es requerido, extendiendo la funcionalidad del cliente."
   ]
  },
  {
   "cell_type": "markdown",
   "id": "295242cc",
   "metadata": {},
   "source": [
    "## Node.js\n",
    "\n",
    "Es un entorno de ejecución del lado del servidor para aplicaciones de red. Node.js es un termino general que se refiere a cualquier librería, framework o plataforma sobre la que corra la aplicación, ademas es: de código abierto, cross plataform.\n",
    "\n",
    "Fue concebida por Google sobre la plataforma del motor de Chrome (V8 engine), un entorno de javascript.\n",
    "\n",
    "Las aplicaciones de Node son escritas en JavaScript.\n",
    "\n",
    "Es ligera y portable, y permite desarrollar ambas partes de una aplicación, backend y frontend."
   ]
  },
  {
   "cell_type": "markdown",
   "id": "9280e68b",
   "metadata": {},
   "source": [
    "## Express .js\n",
    "\n",
    "Es un framework de Node .js para desarrollar aplicaciones web y aplicaciones móviles. Provee un conjunto de características robustas que permiten el desarrollo de aplicaciones básicas o complejas de una forma rápida, flexible y mínima. Un framework es un conjunto de herramientas que le permiten al desarrollador ser creativo, pueden incluir librerias, clases, componentes, etc. Provee funcionalidad de base que puede ser extendida para construir aplicaciones complejas."
   ]
  },
  {
   "cell_type": "markdown",
   "id": "1d271523",
   "metadata": {},
   "source": [
    "## Python\n",
    "\n",
    "Es un lenguaje de programación de alto nivel, de propósito general, portable, interpretado, tiene un gran conjunto de librerias, "
   ]
  },
  {
   "cell_type": "markdown",
   "id": "f2aa8f69",
   "metadata": {},
   "source": [
    "## Django \n",
    "\n",
    "Es un framework de aplicaciones (componentes y herramientas que ayudan a construir un desarrollo de una manera más rápida y fácil) web que esta escrito en Python, es open source. \n",
    "\n",
    "www.djangoproject.com\n",
    "\n"
   ]
  },
  {
   "cell_type": "markdown",
   "id": "4c3dee23",
   "metadata": {},
   "source": [
    "## PosgreSQL\n",
    "\n",
    "Es un sistema gestor de base de datos objeto-relacional de propósito general, puede correr en múltiples plataformas: Windows, Mac OS X, Solaris, UNIX. Es open source, además es una plataforma sólida. Maneja lenguaje SQL."
   ]
  },
  {
   "cell_type": "code",
   "execution_count": null,
   "id": "1963b999",
   "metadata": {},
   "outputs": [],
   "source": []
  }
 ],
 "metadata": {
  "kernelspec": {
   "display_name": "Bash",
   "language": "bash",
   "name": "bash"
  },
  "language_info": {
   "codemirror_mode": "shell",
   "file_extension": ".sh",
   "mimetype": "text/x-sh",
   "name": "bash"
  }
 },
 "nbformat": 4,
 "nbformat_minor": 5
}
