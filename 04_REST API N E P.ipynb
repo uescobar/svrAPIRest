{
 "cells": [
  {
   "cell_type": "markdown",
   "id": "96ed22c6",
   "metadata": {},
   "source": [
    "01 Crear un usuario Linux con el nombre del usuario que se agregará a la base de datos y establecer un password para el usuario"
   ]
  },
  {
   "cell_type": "code",
   "execution_count": null,
   "id": "1c0152cf",
   "metadata": {},
   "outputs": [],
   "source": [
    "sudo adduser nombre_usuario"
   ]
  },
  {
   "cell_type": "code",
   "execution_count": null,
   "id": "3dd6e5aa",
   "metadata": {},
   "outputs": [],
   "source": [
    "sudo passwd nombre_usuario"
   ]
  },
  {
   "cell_type": "markdown",
   "id": "9603e559",
   "metadata": {},
   "source": [
    "02 Conectarse a la consola de postgresql\n",
    "\n",
    "Para conectarse a PostgreSQL con el rol postgres"
   ]
  },
  {
   "cell_type": "code",
   "execution_count": null,
   "id": "3e10d7f5",
   "metadata": {},
   "outputs": [],
   "source": [
    "sudo -i -u postgres"
   ]
  },
  {
   "cell_type": "markdown",
   "id": "44cba781",
   "metadata": {},
   "source": [
    "Y ahora nos podemos acceder a PostgreSQL usando el siguiente comando"
   ]
  },
  {
   "cell_type": "code",
   "execution_count": null,
   "id": "665e52ca",
   "metadata": {},
   "outputs": [],
   "source": [
    "psql template1"
   ]
  },
  {
   "cell_type": "markdown",
   "id": "5eaf49b0",
   "metadata": {},
   "source": [
    "Algunos comandos comunes en psql son los siguientes:\n",
    "\n",
    "* \\q ***Salir de la conexión psql***\n",
    "* \\c ***Conectar a una nueva base de datos***\n",
    "* \\dt ***Listar todas las tablas***\n",
    "* \\du ***Listar todos los roles***\n",
    "* \\list ***Listar las bases de datos***\n",
    "* \\conninfo ***Mostrar la base de datos y el usuario conectado***\n",
    "\n",
    "\n",
    "Los comandos en la shell de  PostgreSQL inician con  \\  (slash)"
   ]
  },
  {
   "cell_type": "markdown",
   "id": "5f19a1d7",
   "metadata": {},
   "source": [
    "Para conocer mas sobre el usuario que esta conectado en la base de datos se usa el comando"
   ]
  },
  {
   "cell_type": "code",
   "execution_count": null,
   "id": "b5950276",
   "metadata": {},
   "outputs": [],
   "source": [
    "\\conninfo"
   ]
  },
  {
   "cell_type": "markdown",
   "id": "9b761802",
   "metadata": {},
   "source": [
    "03 Crear una nueva cuenta de usuario (rol ó role) desde la shell psql.\n",
    "\n",
    "Un rol puede funcionar como un usuario o un grupo, un rol son los permisos que tiene una cuenta para ejecutar ciertas acciones en una base de datos"
   ]
  },
  {
   "cell_type": "code",
   "execution_count": null,
   "id": "95578c6f",
   "metadata": {},
   "outputs": [],
   "source": [
    "CREATE ROLE nombre_usuario WITH LOGIN PASSWORD 'contraseña_usuario';"
   ]
  },
  {
   "cell_type": "markdown",
   "id": "8f20bb68",
   "metadata": {},
   "source": [
    "La respuesta debe de regresar 'CREATE ROLE', sin embargo hasta el momento la cuenta no tiene permiso para realizar acciones. Así que vamos a darle permisos para crear una base de datos."
   ]
  },
  {
   "cell_type": "code",
   "execution_count": null,
   "id": "a34535f4",
   "metadata": {},
   "outputs": [],
   "source": [
    "ALTER ROLE nombre_usuario CREATEDB;"
   ]
  },
  {
   "cell_type": "markdown",
   "id": "2ee1c92f",
   "metadata": {},
   "source": [
    "La respuesta debe de regresar 'ALTER ROLE', y para ver los roles que se tienen en el servidor de base de datos, usaremos el siguiente comando"
   ]
  },
  {
   "cell_type": "code",
   "execution_count": null,
   "id": "619d97f0",
   "metadata": {},
   "outputs": [],
   "source": [
    "\\du"
   ]
  },
  {
   "cell_type": "markdown",
   "id": "337477f7",
   "metadata": {},
   "source": [
    "04 Crear una base de datos con psql, la base de datos se llama api"
   ]
  },
  {
   "cell_type": "code",
   "execution_count": null,
   "id": "a3b3e650",
   "metadata": {},
   "outputs": [],
   "source": [
    "CREATE DATABASE api;"
   ]
  },
  {
   "cell_type": "markdown",
   "id": "548c21bf",
   "metadata": {},
   "source": [
    "La respuesta debe regresar 'CREATE DATABASE'"
   ]
  },
  {
   "cell_type": "markdown",
   "id": "7aebc301",
   "metadata": {},
   "source": [
    "05 Otorgar todos los permisos sobre la base de datos al usuario 'nombre_usuario'"
   ]
  },
  {
   "cell_type": "code",
   "execution_count": null,
   "id": "c2d7120b",
   "metadata": {},
   "outputs": [],
   "source": [
    "GRANT ALL PRIVILEGES ON DATABASE api to nombre_usuario;"
   ]
  },
  {
   "cell_type": "markdown",
   "id": "31d15685",
   "metadata": {},
   "source": [
    "La respuesta debe regresar 'GRANT' y en seguida salimos de psql shell"
   ]
  },
  {
   "cell_type": "code",
   "execution_count": null,
   "id": "768cbbe4",
   "metadata": {},
   "outputs": [],
   "source": [
    "\\q"
   ]
  },
  {
   "cell_type": "markdown",
   "id": "aa3b394a",
   "metadata": {},
   "source": [
    "06 Probar el login del usuario que agregamos "
   ]
  },
  {
   "cell_type": "code",
   "execution_count": null,
   "id": "20519276",
   "metadata": {},
   "outputs": [],
   "source": [
    "su - nombre_usuario"
   ]
  },
  {
   "cell_type": "code",
   "execution_count": null,
   "id": "d6d68ad6",
   "metadata": {},
   "outputs": [],
   "source": [
    "psql -d api -U nombre_usuario"
   ]
  },
  {
   "cell_type": "markdown",
   "id": "24cdb3ab",
   "metadata": {},
   "source": [
    "Se debe mostrar un prompt como el que sigue\n",
    "\n",
    "api=> "
   ]
  },
  {
   "cell_type": "markdown",
   "id": "0068128a",
   "metadata": {},
   "source": [
    "07 crear una nueva tabla con SQL desde la psql shell\n",
    "\n",
    "Como comentario al query, SERIAL es una columna autoincrementable. PostgreSQL usará un generador de secuencias para generar el valor de la columna SERIAL una vez que se inserte una nueva fila.\n",
    "\n",
    "Así mismo, PRIMARY KEY es una columna de la tabla que debe contener un valor único el cual es usado para identificar cada una de las filas en la tabla de forma única.\n",
    "\n",
    "Si todo va bien, se muestra la leyenda 'CREATE TABLE'\n",
    "\n",
    "Como referencia adicional, en una base de datos, un schema (esquema) es una colección de tablas. Un esquema puede ademas contener vistas, indices, secuencias, tipos de datos, operadores y funciones.\n",
    "\n"
   ]
  },
  {
   "cell_type": "code",
   "execution_count": null,
   "id": "52199b45",
   "metadata": {},
   "outputs": [],
   "source": [
    "CREATE TABLE paises(\n",
    "    ID SERIAL PRIMARY KEY,\n",
    "    nombre VARCHAR(50),\n",
    "    capital VARCHAR(50)\n",
    ");"
   ]
  },
  {
   "cell_type": "markdown",
   "id": "14e885f6",
   "metadata": {},
   "source": [
    "Para verificar que la tabla se encuentre en la base de datos ejecutar el siguiente comando"
   ]
  },
  {
   "cell_type": "code",
   "execution_count": null,
   "id": "dbadf03e",
   "metadata": {},
   "outputs": [],
   "source": [
    "\\du"
   ]
  },
  {
   "cell_type": "markdown",
   "id": "787c4d4c",
   "metadata": {},
   "source": [
    "08 Insertar datos en la tabla"
   ]
  },
  {
   "cell_type": "code",
   "execution_count": null,
   "id": "9ed812ff",
   "metadata": {},
   "outputs": [],
   "source": [
    "INSERT INTO paises (nombre, capital)\n",
    "    VALUES ('Venezuela','Caracas'),\n",
    "    ('Colombia','Bogota'),\n",
    "    ('El Salvador','San Salvador'),\n",
    "    ('Canadá','Otawa'),\n",
    "    ('Alemania', 'Berlin'),\n",
    "    ('Egipto','El Cairo');"
   ]
  },
  {
   "cell_type": "markdown",
   "id": "c5cc7af9",
   "metadata": {},
   "source": [
    "Verificamos las inserciones con el siguiente comando"
   ]
  },
  {
   "cell_type": "code",
   "execution_count": null,
   "id": "2346fe48",
   "metadata": {},
   "outputs": [],
   "source": [
    "SELECT * FROM paises;"
   ]
  },
  {
   "cell_type": "markdown",
   "id": "81ded0f9",
   "metadata": {},
   "source": [
    "Ahora salimos de psql shell con el siguiente comando"
   ]
  },
  {
   "cell_type": "code",
   "execution_count": null,
   "id": "539843b4",
   "metadata": {},
   "outputs": [],
   "source": [
    "\\q"
   ]
  },
  {
   "cell_type": "markdown",
   "id": "93b17cd3",
   "metadata": {},
   "source": [
    "## Archivo package.json \n",
    "\n",
    "Un archivo package.json contiene metadatos relevantes del proyecto, se usa para dar información a npm que permite identificar el proyecto asi como manejar las dependencias del proyecto.\n",
    "\n",
    "Un archivo de este tipo puede ser creado manualmente o puede ser creado mediante el siguiente comando\n",
    "\n",
    "npm init -y\n",
    "\n",
    "Un paquete es un directorio con uno o más módulos dentro del mismo y además un archivo package.json que contiene metadatos del paquete.\n",
    "\n",
    "Un módulo es un único archivo de javascript que contiene algún tipo de funcionalidad (de tamaño razonable).\n",
    "\n",
    "Cada aplicación de node.js es un paquete que además debe contener un archivo package.json\n",
    "\n",
    "## JSON\n",
    "\n",
    "significa Javascript Object Notation\n",
    "\n",
    "Es un archivo en formato texto que contiene pares clave y valor. Por ejemplo, el nombre del paquete puede ser la clave y la versión del paquete puede ser el valor.\n",
    "\n",
    "Para crear el archivo package.json primero que nada se debe de crear el directorio del proyecto y posteriormente crear el archivo package.json dentro de ese directorio.\n",
    "\n",
    "09 El directorio del proyecto lo crearemos dentro del home del usuario que se creo en Linux para la base de datos"
   ]
  },
  {
   "cell_type": "code",
   "execution_count": null,
   "id": "f501dc03",
   "metadata": {},
   "outputs": [],
   "source": [
    "mkdir miapi"
   ]
  },
  {
   "cell_type": "code",
   "execution_count": null,
   "id": "597b011f",
   "metadata": {},
   "outputs": [],
   "source": [
    "cd miapi"
   ]
  },
  {
   "cell_type": "markdown",
   "id": "49aba4fc",
   "metadata": {},
   "source": [
    "10 Ahora usamos el comando para crear el archivo package.json, cabe señalar que la salida de ese comando muestra el contenido del archivo, que por supuesto se puede editar manualmente."
   ]
  },
  {
   "cell_type": "code",
   "execution_count": null,
   "id": "4497242c",
   "metadata": {},
   "outputs": [],
   "source": [
    "npm init -y"
   ]
  },
  {
   "cell_type": "markdown",
   "id": "8827494c",
   "metadata": {},
   "source": [
    "## Express\n",
    "\n",
    "Express es un framework construido en Node.js. Un framework es una guia para hacer algo (como una manera predefinida de hacer las cosas).\n",
    "\n",
    "Express es flexible, y provee funciones robustas para el desarrollo web y de aplicaciones móviles.\n",
    "\n",
    "***Dentro del directorio del proyecto instalaremos con el siguiente comando.***\n",
    "\n",
    "La opcion save, guardará la dependencia dentro del archivo package.json, además se crea el directorio node_modules, el cual contiene librerías descargadas desde el node package manager, y son definidas para su instalación dentro del archivo package.json. Además se agrega el archivo package-lock.json y que es escrito cuando se detecta cualquier cambio de valor numérico dentro del archivo package.json, tales como la versión. \n",
    "\n",
    "10 instalación de express  estas es una prueba"
   ]
  },
  {
   "cell_type": "code",
   "execution_count": null,
   "id": "53681506",
   "metadata": {},
   "outputs": [],
   "source": [
    "npm install express --save"
   ]
  },
  {
   "cell_type": "markdown",
   "id": "5d5577fe",
   "metadata": {},
   "source": [
    "### node-postgres\n",
    "\n",
    "Es una colección de módulos node.js para interactuar con la base de datos PostgrSQL, ahora hay que instalarlo, así que hay que asegurarse que se esté en el directorio del proyecto (directorio ~/miapi, del usuario con el que se creo la base de datos) y ejecutamos el siguiente comando.\n",
    "\n",
    "Recordar que la opción --save va a guardar la dependencia del módulo en el archivo packages."
   ]
  },
  {
   "cell_type": "code",
   "execution_count": null,
   "id": "80154609",
   "metadata": {},
   "outputs": [],
   "source": [
    "npm install pg --save"
   ]
  },
  {
   "cell_type": "markdown",
   "id": "b219f459",
   "metadata": {},
   "source": [
    "11 \n",
    "\n",
    "## Creación del archivo de la aplicación\n",
    "\n",
    "Este será el archivo principal de la aplicación que será el punto de entrada para nuestro servidor. Una vez creado el archivo package.json, se especifica que el archivo main es llamado ***index.js***, que es lo que vamos a crear ahora. asegurarse que se esté en el directorio del proyecto (directorio ~/miapi, del usuario con el que se creo la base de datos)."
   ]
  },
  {
   "cell_type": "code",
   "execution_count": null,
   "id": "8a23160b",
   "metadata": {},
   "outputs": [],
   "source": [
    "touch index.js"
   ]
  },
  {
   "cell_type": "code",
   "execution_count": null,
   "id": "f5079d3c",
   "metadata": {},
   "outputs": [],
   "source": [
    "nano index.js"
   ]
  },
  {
   "cell_type": "markdown",
   "id": "de6710b7",
   "metadata": {},
   "source": [
    "A continuación se explican las lineas que se deben agregar al archivo. \n",
    "\n",
    "const express = require('express')\n",
    "const bodyParser = require('body-parser')\n",
    "const app = express()\n",
    "const port = 3000\n",
    "\n",
    "La declaración **const** crea una referencia de solo lectura a un valor. Define una constante que hace referencia a un valor.\n",
    "\n",
    "La función **require()** es una función interna de node.js que permite importar o incorporar módulos que ya han sido instalados en los proyectos y que se desea usar.\n",
    "\n",
    "El módulo body-parser, es una librería que se utiliza como middleware (software intermedio que se encarga de recibir los objetos de peticion y respuesta, request y response) cuando node.js maneja las peticiones GET y POST, éste módulo se instala por defecto cuando se instala express. Este módulo provee los siguientes parsers (analizadores de texto o contenido que extraen elementos de interés):\n",
    "\n",
    "* JSON, Raw, text y URL-encoded. Escencialmente facilitan el acceso a los objetos del cuerpo de la petición, especialmente cuando las peticiones son de tipo POST.\n",
    "\n",
    "La linea const app = express() instancía un objeto de tipo aplicación express con métodos de petición de tipo http.\n",
    "\n",
    "La linea const port = 6000 es para indicarle a la aplicación el número de puerto que deseamos usar.\n",
    "\n",
    "A continuación, se agrega el código. \n",
    "\n",
    "app.use(bodyParser.json)\n",
    "\n",
    "app.use(\n",
    "    bodyParser.urlencoded({\n",
    "        extended: true,\n",
    "    })\n",
    ")\n",
    "\n",
    "app.use() se comportará como el middleware en una aplicación express. app fue definida previamente en el código. Además como parámetro del método use() se le está proporcionando bodyParser.json() que es un método usado para reconocer objetos de peticiones entrantes como un objeto de tipo JSON. Este método es llamado un middleware.\n",
    "\n",
    "JSON significa Javascript Object Notation. JSON es un formato ligero para almacenar y transportar información. JSON es usado comunmente para enviar y recibir información de un servidor a una página web.\n",
    "\n",
    "si el parámetro extended fuese igual a false, entonces el objeto de petición usaria un parser de tipo urlencoded. Pero cuando es puesto en true, se proporciona mayor flexibilidad para analizar el código y realizar operaciones manuales.\n",
    "\n",
    "body Parser.urlencoded() analiza el texto como datos codificados en formato URL (lo que utilizan los navegadores para enviar información de formularios típicos mediante la petición POST) y expone el objeto resultante (que contiene pares clave valor) sobre req.body.\n",
    "\n",
    "A continuación agregamos el código\n",
    "\n",
    "// GET Request to root URL (/)\n",
    "app.get('/', (request, response) => {\n",
    "    response.json({Bienvenido: \"Creando API con node.js, express y postgresql\"})\n",
    "})\n",
    "\n",
    "Este código va a responder a cualquier petición GET realizada a la URL raíz (root URL definida por /, que significa http://localhost:6000/). response.json envía la respuesta representada por pares clave valor en formato JSON. \n",
    "\n",
    "A continuación agregamos el código\n",
    "\n",
    "app.listen(port, () => {\n",
    "    console.log(`Aplicación ejecutandose en el puerto ${port}.`)\n",
    "})\n",
    "\n",
    "La aplicación abre el puerto especificado para escuchar las peticiónes sobre dicho puerto, nótese que se usan acentos invertidos.\n"
   ]
  },
  {
   "cell_type": "code",
   "execution_count": null,
   "id": "5786a0cb",
   "metadata": {},
   "outputs": [],
   "source": [
    "const express = require('express')\n",
    "const bodyParser = require('body-parser')\n",
    "const app = express()\n",
    "const port = 6000\n",
    "\n",
    "app.use(\n",
    "    bodyParser.urlencoded({\n",
    "        extended: true,\n",
    "    })\n",
    ")\n",
    "\n",
    "// GET Request to root URL (/)\n",
    "app.get('/', (request, response) => {\n",
    "    response.json({Bienvenido: \"Creando API con node.js, express y postgresql\"})\n",
    "})\n",
    "\n",
    "app.listen(port, () => {\n",
    "    console.log(`Aplicación ejecutandose en el puerto ${port}.`)\n",
    "})"
   ]
  },
  {
   "cell_type": "markdown",
   "id": "f47c34c6",
   "metadata": {},
   "source": [
    "12 Iniciar el servidor de aplicación\n",
    "\n",
    "Se debe ingresar al directorio del proyecto para iniciar el servidor de la aplicación y que contiene el directorio index.js\n",
    "\n",
    "Para iniciar el servidor ejecutamos el siguiente comando."
   ]
  },
  {
   "cell_type": "code",
   "execution_count": null,
   "id": "5e0d47f9",
   "metadata": {},
   "outputs": [],
   "source": [
    "node index.js"
   ]
  },
  {
   "cell_type": "markdown",
   "id": "0c81fd94",
   "metadata": {},
   "source": [
    "se debe mostrar el mensaje \n",
    "\n",
    "**Aplicación ejecutandose en el puerto 6000.**"
   ]
  },
  {
   "cell_type": "markdown",
   "id": "3d2f96a7",
   "metadata": {},
   "source": [
    "ahora en el navegador probamos la aplicación indicando en la barra de dirección http://localhost:6000\n",
    "\n",
    "O bien podemos probar desde la consola con los siguientes comandos"
   ]
  },
  {
   "cell_type": "code",
   "execution_count": null,
   "id": "5cae8340",
   "metadata": {},
   "outputs": [],
   "source": [
    "wget http://localhost:6000"
   ]
  },
  {
   "cell_type": "code",
   "execution_count": null,
   "id": "6c02e564",
   "metadata": {},
   "outputs": [],
   "source": [
    "cat index.html "
   ]
  },
  {
   "cell_type": "markdown",
   "id": "a610e437",
   "metadata": {},
   "source": [
    "se debe mostrar el siguiente texto"
   ]
  },
  {
   "cell_type": "markdown",
   "id": "e1fe9aa4",
   "metadata": {},
   "source": [
    "{\"Bienvenido\":\"Creando API con node.js, express y postgresql\"}"
   ]
  },
  {
   "cell_type": "markdown",
   "id": "27a3558f",
   "metadata": {},
   "source": [
    "Cada vez que se haga un cambio en el código del servidor, se debe reiniciar el servidor manualmente, y para evitar eso, debemos usar nodemon\n",
    "\n",
    "ahora detenemos el servidor presionando las teclas **Control + c** e iniciamos el servidor con el siguiente comando"
   ]
  },
  {
   "cell_type": "code",
   "execution_count": null,
   "id": "5891ad12",
   "metadata": {},
   "outputs": [],
   "source": [
    "nodemon"
   ]
  },
  {
   "cell_type": "markdown",
   "id": "73185195",
   "metadata": {},
   "source": [
    "nodemon vigilará los cambios que se hagan en los archivos y reiniciará el servidor cada vez que detecte cambios en el servidor. "
   ]
  },
  {
   "cell_type": "markdown",
   "id": "b54543b9",
   "metadata": {},
   "source": [
    "12 \n",
    "### Conectarse a la base de datos desde node.js\n",
    "\n",
    "Se usará el módulo node-postgres module para crear un pool de conexiones. De esta forma no se tendrá que abrir un cliente y cerrarlo cada vez que se haga una petición.\n",
    "\n",
    "Antes de que nos podamos conectar a node.js, debemos establecer la configuración para la conexión a la base de datos.\n",
    "\n",
    "Dentro del directorio del proyecto crearemos un archivo llamado queries.js\n",
    "\n",
    "Este archivo será una combinación de parámetros de configuración para la base de datos ya demás se van a agregar queries que nos permitirán comunicarnos con la base de datos para recuperar, actualizar, eliminar y agregar datos en la base de datos.\n",
    "\n",
    "En entornos de producción, los datos de configuración deben estar en un archivo separado y con permisos restringidos para mayor seguridad."
   ]
  },
  {
   "cell_type": "code",
   "execution_count": null,
   "id": "9ce2f9d1",
   "metadata": {},
   "outputs": [],
   "source": [
    "touch queries.js"
   ]
  },
  {
   "cell_type": "markdown",
   "id": "e0a81d89",
   "metadata": {},
   "source": [
    "El código que debe agregarse es el siguiente, en una primera parte las configuraciones de conexión:\n",
    "\n",
    "const Pool = require('pg').Pool\n",
    "const pool = new Pool({\n",
    "    user: 'nombre_usuario',\n",
    "    host: 'localhost',\n",
    "    database: 'api',\n",
    "    password: 'contraseña_usuario',\n",
    "    port: 5432,\n",
    "})\n",
    "\n",
    "pg.Pool permite crear una conexión tipo pool que permite ejecutar multiples quieries al mismo tiempo.\n",
    "\n",
    "Una opción popular para aplicaciones en producción debería ser usar pgBouncer, una conexión tipo pool ligera para PostgreSQL.\n",
    "\n",
    "Se utiliza el constructor de un nuevo pool (new Pool) para crear una nueva instancia y pasarle el objeto de configuración. Cada campo del objeto de configuración es opcional. La configuración que se le pasa al pool es también pasadas a cada instancia del cliente dentro del pool cuando el pool crea ese cliente.\n",
    "\n",
    "### Crear una ruta para obtener todos los registros de la base de datos\n",
    "\n",
    "Se debe agregar el código al archivo queries.js, este código será responsable de regresar todos los registros de las tablas de la base de datos.\n",
    "\n",
    "const getPaises = (request, response) => {\n",
    "    pool.query('SELECT * FROM paises ORDER BY id ASC', (error, results) => {\n",
    "        if(error){\n",
    "            throw error\n",
    "        }\n",
    "        response.status(200).json(results.rows)\n",
    "    })\n",
    "}\n",
    "\n",
    "El método pool.query es un método usado para ejecutar una sola consulta sobre una base de datos con el primer cliente inactivo y regresar un resultado.\n",
    "\n",
    "### Crear una ruta para obtener un registro de la base de datos"
   ]
  },
  {
   "cell_type": "code",
   "execution_count": null,
   "id": "1ee00023",
   "metadata": {},
   "outputs": [],
   "source": [
    "nano queries.js"
   ]
  },
  {
   "cell_type": "code",
   "execution_count": null,
   "id": "962ad2a1",
   "metadata": {},
   "outputs": [],
   "source": [
    "const Pool = require('pg').Pool\n",
    "const pool = new Pool({\n",
    "    user: 'nombre_usuario',\n",
    "    host: 'localhost',\n",
    "    database: 'api',\n",
    "    password: 'contraseña_usuario',\n",
    "    port: 5432,\n",
    "})\n",
    "\n",
    "const getPaises = (request, response) => {\n",
    "    pool.query('SELECT * FROM paises ORDER BY id ASC', (error, results) => {\n",
    "        if(error){\n",
    "            throw error\n",
    "        }\n",
    "        response.status(200).json(results.rows)\n",
    "    })\n",
    "}"
   ]
  }
 ],
 "metadata": {
  "kernelspec": {
   "display_name": "Bash",
   "language": "bash",
   "name": "bash"
  },
  "language_info": {
   "codemirror_mode": "shell",
   "file_extension": ".sh",
   "mimetype": "text/x-sh",
   "name": "bash"
  }
 },
 "nbformat": 4,
 "nbformat_minor": 5
}
