{
 "cells": [
  {
   "cell_type": "markdown",
   "id": "032e39b9",
   "metadata": {},
   "source": [
    "### Crear un entorno virtual\n",
    "\n",
    "Un entorno virtual es un ambiente Python aislado, permite instalar paquetes de Python en un ambiente autocontenido. Un entorno virtual, básicamente, es una copia del interprete de Python que puede ser usado para instalar paquetes sin afectar el ambiente global del interprete de Python instalado en el sistema.\n",
    "\n",
    "Crear un ambiente virtual para cada proyecto asegura que las aplicaciones tendrán acceso únicamente a los paquetes que usan, mientras que el interprete global permanece puro y limpio sirviendo como origen desde el cual pueden ser creados muchos ambientes virtuales mas.\n",
    "\n",
    "Hay distintos paquetes que pueden ser usadons para crear entornos virtuales, uno de ellos es el paquete  **virtualenv**. Este paquete debe ser instalado antes de que pueda ser usado.\n",
    "\n",
    "Python tiene integrado un módulo llamado **venv** que puede ser usado para crear y administrar entornos virtuales. Este paquete ya se encuentra instalado y listo para usarse."
   ]
  },
  {
   "cell_type": "markdown",
   "id": "c1699905",
   "metadata": {},
   "source": [
    "01 antes de crear el entorno virtual se debe crear el directorio en donde el proyecto va a vivir, y dentro de este directorio es donde se va a crear y activar el entorno virtual."
   ]
  },
  {
   "cell_type": "code",
   "execution_count": null,
   "id": "6d33b935",
   "metadata": {},
   "outputs": [],
   "source": [
    "mkdir ~/paisesAPI"
   ]
  },
  {
   "cell_type": "markdown",
   "id": "c027926b",
   "metadata": {},
   "source": [
    "Para crear un nuevo ambiente virtual usando el módulo venv, se debe crear el directorio del proyecto, ingresar al directorio del proyecto"
   ]
  },
  {
   "cell_type": "code",
   "execution_count": null,
   "id": "25e8da39",
   "metadata": {},
   "outputs": [],
   "source": [
    "cd ~/paisesAPI"
   ]
  },
  {
   "cell_type": "markdown",
   "id": "e31719ef",
   "metadata": {},
   "source": [
    "Instalar el programa para crear ambientes virtuales en python"
   ]
  },
  {
   "cell_type": "code",
   "execution_count": null,
   "id": "826f7153",
   "metadata": {},
   "outputs": [],
   "source": [
    "sudo apt-get install python3-venv"
   ]
  },
  {
   "cell_type": "markdown",
   "id": "556d1319",
   "metadata": {},
   "source": [
    "y ejecutar el comando siguiente dando un nombre al entorno virtual, en este caso, se llama tambien venv"
   ]
  },
  {
   "cell_type": "code",
   "execution_count": null,
   "id": "b6813194",
   "metadata": {},
   "outputs": [],
   "source": [
    "python3 -m venv venv"
   ]
  },
  {
   "cell_type": "markdown",
   "id": "51a957c7",
   "metadata": {},
   "source": [
    "despues de que el entorno virtual ha sido creado, el prompt regresa al directorio, en donde se encontrará el un directorio llamado venv que dentro contiene mas directorios, pero uno en particular, llamado bin, contiene el archivo activate el cuál hay que ejecutar para activar el entorno virtual, y se realiza de la siguiente manera:"
   ]
  },
  {
   "cell_type": "code",
   "execution_count": null,
   "id": "aa26682c",
   "metadata": {},
   "outputs": [],
   "source": [
    "source venv/bin/activate"
   ]
  },
  {
   "cell_type": "markdown",
   "id": "56953848",
   "metadata": {},
   "source": [
    "después de que el ambiente virtual ha sido activado, en el prompt, se verá el nombre del ambiente virtual dentro de paréntesis. Si se desea desactivar el ambiente virtual solo hay que ejecutar el siguiente comando y entonces, luego de que el ambiente ha sido desactivado,  el nombre del ambiente virtual desaparece del paréntesis."
   ]
  },
  {
   "cell_type": "raw",
   "id": "6b5d4b7d",
   "metadata": {},
   "source": [
    "deactivate"
   ]
  },
  {
   "cell_type": "markdown",
   "id": "1bf8ffe8",
   "metadata": {},
   "source": [
    "El comando anterior (deactivate) solo lo ejecutaremos cuando ya no vayamos a usar el entorno virtual"
   ]
  },
  {
   "cell_type": "markdown",
   "id": "455c2e52",
   "metadata": {},
   "source": [
    "Debemos asegurarnos de estar en el directorio de paisesAPI (comando pwd) y debemos acualizar el programa pip, que es el manejador estándar de paquetes y que permite instalar y administrar los paquetes adicionales de python que no son parte de la librería estandar de python. La actualización se realiza ejecutando el siguiente comando, previamente deberá haber desactivado el ambiente virtual (deactivate)"
   ]
  },
  {
   "cell_type": "code",
   "execution_count": null,
   "id": "f3490cf4",
   "metadata": {},
   "outputs": [],
   "source": [
    "python3 -m pip install --upgrade pip"
   ]
  },
  {
   "cell_type": "markdown",
   "id": "9c1477d7",
   "metadata": {},
   "source": [
    "Ahora procedemos a activar el ambiente virtual"
   ]
  },
  {
   "cell_type": "code",
   "execution_count": null,
   "id": "9d1bc3bf",
   "metadata": {},
   "outputs": [],
   "source": [
    "source venv/bin/activate"
   ]
  },
  {
   "cell_type": "markdown",
   "id": "df4b9964",
   "metadata": {},
   "source": [
    "procedemos a instalar django"
   ]
  },
  {
   "cell_type": "code",
   "execution_count": null,
   "id": "27e3af83",
   "metadata": {},
   "outputs": [],
   "source": [
    "pip install django"
   ]
  },
  {
   "cell_type": "markdown",
   "id": "aa756e9e",
   "metadata": {},
   "source": [
    "Una vez que django ha sido instalado, es momento de comprobar su versión"
   ]
  },
  {
   "cell_type": "code",
   "execution_count": null,
   "id": "102c7c12",
   "metadata": {},
   "outputs": [],
   "source": [
    "python -m django --version"
   ]
  },
  {
   "cell_type": "markdown",
   "id": "e30dd5d7",
   "metadata": {},
   "source": [
    "03 Instalar Django REST framework, Django REST framework es un entorno potente y flexible para construir web APIs, debe ser instalado dentro del ambiente virtual activado"
   ]
  },
  {
   "cell_type": "code",
   "execution_count": null,
   "id": "a49a7ccd",
   "metadata": {},
   "outputs": [],
   "source": [
    "pip install djangorestframework"
   ]
  },
  {
   "cell_type": "markdown",
   "id": "8275dc52",
   "metadata": {},
   "source": [
    "04 Instalar y configurar CORS, que significa Cross Origin Resource Sharing y permite a las aplicaciones cliente usar las interfaces de las API que estan hospedadas en diferentes dominios, lo que hace es habilitar a los navegadores web hacer un bypass la misma política de origen que etá reforzada por defecto causando el agregado de encabezados por defecto que le dice al navegador web si está autorizado para enciar o recibir peticiones desde diferentes dominios, además, habilita la realización de peticiones desde otros origenes. Se puede habilitar CORS en django usando la herramienta de gestión de paquetes django-cors-headers, pero hay que instalarlo "
   ]
  },
  {
   "cell_type": "code",
   "execution_count": null,
   "id": "8c42a4d1",
   "metadata": {},
   "outputs": [],
   "source": [
    "pip install django-cors-headers"
   ]
  },
  {
   "cell_type": "markdown",
   "id": "e993b004",
   "metadata": {},
   "source": [
    "Para configurar CORS necesitamos entrar al archivo de confguración dentro del archivo setting.py dentro del proyecto django para especificar lo que debe ser permitido para accessar la aplicación django, un ejemplo es el siguiente:\n",
    "\n",
    "\n",
    "CORS_ORIGIN_ALLOW_ALL = False\n",
    "CORS_ORIGIN_WHITELIST = {'http://localhost:8080'\n",
    "}\n",
    "\n",
    "estas líneas se agregan al final del archivo.\n",
    "\n",
    "Las líneas anteriores provocan que solo las URLs que están en la lista blanca puedan acceder a los recursos publicados en el puerto 8080.\n",
    "\n",
    "Si se desea que la aplicación django sea accesible desde todos los origenes, cambiar el False por True y no sería necesaria la última línea."
   ]
  },
  {
   "cell_type": "markdown",
   "id": "ac033113",
   "metadata": {},
   "source": [
    "05 Crear un proyecto DJANGO\n",
    "\n",
    "Después de ejecutar la instrucción se tendrá un directorio con el nombre del proyecto y con los archivos del proyecto, los cuales son:\n",
    "\n",
    "proyectoPaises/\n",
    "├── asgi.py\n",
    "├── __init__.py\n",
    "├── settings.py\n",
    "├── urls.py\n",
    "└── wsgi.py\n",
    "\n",
    "además, al mismo nivel que el directorio ***proyectoPaises*** se crea el archivo ```manage.py```\n",
    "\n",
    "El archivo ```manage.py``` es una utilidad de línea de comandos que permite interactuar con el proyecto de django de varias maneras.\n",
    "\n",
    "El archivo ```__init__.py```le indica a python que este directorio debe ser considerado como un paquete.\n",
    "\n",
    "El archivo ```asgi.py``` es un archivo que representa un punto de entrada para servidores web compatibles con ASGI que le permitirán servir el proyecto.\n",
    "\n",
    "El archivo ```settings.py``` contiene los parámetros de configuración del proyecto django.\n",
    "\n",
    "El archivo ```urls.py``` contiene las url declaradas para el proyecto, que son una lista de las rutas que se liberan para la interacción con la aplicación.\n",
    "\n",
    "El archivo ```wsgi.py``` es un punto de entrada para los servidores WSGI compatibles para que puedan servir el proyecto.\n"
   ]
  },
  {
   "cell_type": "code",
   "execution_count": null,
   "id": "7726cec4",
   "metadata": {},
   "outputs": [],
   "source": [
    "django-admin startproject proyectoPaises ."
   ]
  },
  {
   "cell_type": "markdown",
   "id": "cf40f417",
   "metadata": {},
   "source": [
    "06 Crear una aplicación DJANGO \n",
    "\n",
    "Con el siguiente comando se creará la aplicación. Una vez que el prompt se vuelva a mostrar para recibir instrucciones, la aplicación django habrá sido creada y en el directorio en donde se encuentra el archvio ```manage.py``` se habrá creado el directorio ***paises*** ya que es el nombre que se le dió a la aplicación. \n",
    "\n",
    "Los archivos del directorio paises son:\n",
    "\n",
    "paises/\n",
    "├── admin.py\n",
    "├── apps.py\n",
    "├── __init__.py\n",
    "├── migrations\n",
    "│   └── __init__.py\n",
    "├── models.py\n",
    "├── tests.py\n",
    "└── views.py\n",
    "\n",
    "El archivo ```apps.py``` básicamente contiene una clase llamada PaisesConfig, y ésta representa la aplicación DJANGO con su configuración. La clases PaisesConfig, que es una subclase de django.apps.AppConfig, define un atributo de clase name='paises'\n"
   ]
  },
  {
   "cell_type": "code",
   "execution_count": null,
   "id": "90abf47b",
   "metadata": {},
   "outputs": [],
   "source": [
    "python manage.py startapp paises"
   ]
  },
  {
   "cell_type": "markdown",
   "id": "6afde3a9",
   "metadata": {},
   "source": [
    "07 Cuando se instalan aplicaciones o se configuran paquetes en django, se tiene que registrar con Django para que pueda usar esos paquetes o aplicaciones, en el ejemplo fueron instalados rest_framework, corsheaders y paises.app.PaisesConfig, la última corresponde a la aplicación de django. \n",
    "\n",
    "Para registrar las aplicaciones en django, se debe realizar en el archivo settings.py, ***del directorio proyectoPaises***, y debemos buscar la sección que se denomina ```INSTALLED_APPS```, que ya cuenta con algunas apps registradas así que deberemos registrar las apps que hemos instalado esta lista, las cuales son:\n",
    "\n",
    "'rest_framework',\n",
    "'paises.apps.PaisesConfig',\n",
    "'corsheaders'\n",
    "\n",
    "'paises.apps.PaisesConfig', corresponde a la clase explicada en el paso 06\n",
    "\n",
    "Ya que estamos en el archivo settings.py debemos añadir una clase para la sección MIDDLEWARE, middleware es una clase de python que se engancha en el ciclo de vida de la solicitud de respuesta, así que esas dos clases se usan para mantener piezas de código que son procesadas todo el tiempo que exista una respuesta.\n",
    "\n",
    "Cada componente de middleware es responsable de realizar alguna función específica. Por ejemplo, Django incluye un componente middleware, AuthenticationMiddleware, que asocia los usuarios con las peticiones usando sesiones. \n",
    "\n",
    "La clase que se va añadir se usará para escuchar dentro de las peticiones, ademas, es importante agregarla los suficientemente arriba dentro de la lista de clases middleware, tratando de colocarla especialmente arriba del middleware que genera respuestas tales como CommonMiddleware, en este caso, se va a agregar justo al inicio de la lista:\n",
    "\n",
    "'corsheaders.middleware.CorsMiddleware',"
   ]
  },
  {
   "cell_type": "markdown",
   "id": "f4c0b89f",
   "metadata": {},
   "source": [
    "08 Habilitar la base de datos para interactuar con la aplicación django\n",
    "\n",
    "* En este punto ya se debe tener instalado el servidor mysql en la computadora, \n",
    "* Crear una nueva base de datos en MySQL para que Django cree tablas dentro de dicha base de datos,\n",
    "* Se creará un usuario con autenticación estandar de base de datos y algunos permisos\n",
    "* Instalar el cliente para mysql que permitirá acceder a la base de datos desde django\n",
    "\n"
   ]
  },
  {
   "cell_type": "code",
   "execution_count": null,
   "id": "e7f7e70c",
   "metadata": {},
   "outputs": [],
   "source": [
    "mysql -u root -p"
   ]
  },
  {
   "cell_type": "markdown",
   "id": "5fab9801",
   "metadata": {},
   "source": [
    "dentro de la consola de mysql realizar lo siguiente"
   ]
  },
  {
   "cell_type": "code",
   "execution_count": null,
   "id": "d1afe7be",
   "metadata": {},
   "outputs": [],
   "source": [
    "CREATE SCHEMA paisesdb;"
   ]
  },
  {
   "cell_type": "code",
   "execution_count": null,
   "id": "8b95a83e",
   "metadata": {},
   "outputs": [],
   "source": [
    "show databases;"
   ]
  },
  {
   "cell_type": "markdown",
   "id": "702a1e48",
   "metadata": {},
   "source": [
    "se deberá mostrar algo como lo siguiente:\n",
    "\n",
    "MariaDB [(none)]> show databases;\n",
    "+--------------------+\n",
    "| Database           |\n",
    "+--------------------+\n",
    "| information_schema |\n",
    "| mysql              |\n",
    "| paisesdb           |\n",
    "| performance_schema |\n",
    "+--------------------+\n",
    "4 rows in set (0.000 sec)\n",
    "\n",
    "\n",
    "Ahora procedemos a crear un nuevo usuario con metodo de autenticación estándar\n",
    "\n",
    "MySQL\n",
    "\n",
    "CREATE USER 'django_admin'@'localhost' IDENTIFIED WITH mysql_native_password BY 'password elegido'\n",
    "\n",
    "MariaDB\n",
    "\n",
    "CREATE USER 'django_admin'@'localhost' IDENTIFIED BY"
   ]
  },
  {
   "cell_type": "code",
   "execution_count": null,
   "id": "c5a481c2",
   "metadata": {},
   "outputs": [],
   "source": [
    "CREATE USER 'django_admin'@'localhost' IDENTIFIED BY"
   ]
  },
  {
   "cell_type": "markdown",
   "id": "c50bdb7f",
   "metadata": {},
   "source": [
    "comprobar que se haya creado el usuario de la base de datos"
   ]
  },
  {
   "cell_type": "code",
   "execution_count": null,
   "id": "3267e4e2",
   "metadata": {},
   "outputs": [],
   "source": [
    "SELECT User FROM mysql.user;"
   ]
  },
  {
   "cell_type": "markdown",
   "id": "2783e9af",
   "metadata": {},
   "source": [
    "Proporcionar permisos al usuario que se ha creado en la base de datos.\n",
    "\n",
    "Para permisos de DBA sobre todo el manejador y las bases de datos\n",
    "\n",
    "GRANT ALL PRIVILEGES ON *.* TO 'django_admin'@localhost IDENTIFIED BY 'password elegido';\n",
    "\n",
    "Para permisos sobre la base de datos que hemos creado\n",
    "\n",
    "GRANT ALL PRIVILEGES ON paisesdb.* TO 'django_admin'@localhost;"
   ]
  },
  {
   "cell_type": "code",
   "execution_count": null,
   "id": "3efd3c06",
   "metadata": {},
   "outputs": [],
   "source": [
    "GRANT ALL PRIVILEGES ON paisesdb.* TO 'django_admin'@localhost;"
   ]
  },
  {
   "cell_type": "code",
   "execution_count": null,
   "id": "11d36581",
   "metadata": {},
   "outputs": [],
   "source": [
    "FLUSH PRIVILEGES;"
   ]
  },
  {
   "cell_type": "markdown",
   "id": "0cc82c45",
   "metadata": {},
   "source": [
    "Comprobar la asignación de permisos"
   ]
  },
  {
   "cell_type": "code",
   "execution_count": null,
   "id": "cf942d8b",
   "metadata": {},
   "outputs": [],
   "source": [
    "SHOW GRANTS FOR 'django_admin'@localhost;"
   ]
  },
  {
   "cell_type": "markdown",
   "id": "1a1401cc",
   "metadata": {},
   "source": [
    "En caso de ser necesario eliminar un usuario de la base de datos, realizar:\n",
    "\n",
    "DROP USER 'user1'@localhost;"
   ]
  },
  {
   "cell_type": "code",
   "execution_count": null,
   "id": "12848339",
   "metadata": {},
   "outputs": [],
   "source": [
    "exit;"
   ]
  },
  {
   "cell_type": "markdown",
   "id": "51abfc26",
   "metadata": {},
   "source": [
    "Ahora, en la línea de comandos, Instalar los requerimientos para el conector de base de datos"
   ]
  },
  {
   "cell_type": "code",
   "execution_count": null,
   "id": "ee7e0f21",
   "metadata": {},
   "outputs": [],
   "source": [
    "sudo apt install libmariadb3 libmariadb-dev"
   ]
  },
  {
   "cell_type": "markdown",
   "id": "78089384",
   "metadata": {},
   "source": [
    "instalar el cliente para mysql (mariadb)\n",
    "\n",
    "MySQL \n",
    "\n",
    "pip install mysqlclient\n",
    "\n",
    "MariaDB\n",
    "\n",
    "pip install mariadb"
   ]
  },
  {
   "cell_type": "code",
   "execution_count": null,
   "id": "f225d233",
   "metadata": {},
   "outputs": [],
   "source": [
    "pip install mariadb"
   ]
  },
  {
   "cell_type": "markdown",
   "id": "20679612",
   "metadata": {},
   "source": [
    "configurar los parametros de acceso en la aplicación django, dentro del archivo settings.py del directorio ***proyectoPaises*** en donde tenemos un área para la configuración de la base de datos DATABASE,\n",
    "\n",
    "DATABASES = {\n",
    "    'default': {\n",
    "        'ENGINE': 'django.db.backends.sqlite3',\n",
    "        'NAME': BASE_DIR / 'db.sqlite3',\n",
    "    }\n",
    "}\n",
    "\n",
    "Ahora se cambia lo anterior por:\n",
    "\n",
    "DATABASES = {\n",
    "    'default': {\n",
    "        'ENGINE': 'django.db.backends.mysql',\n",
    "        'NAME': 'paisesdb',\n",
    "        'USER': 'django_admin',\n",
    "        'PASSWORD': 'password elegido',\n",
    "        'HOST': '127.0.0.1',\n",
    "        'PORT': '3306',\n",
    "    }\n",
    "}\n"
   ]
  },
  {
   "cell_type": "code",
   "execution_count": null,
   "id": "5531015d",
   "metadata": {},
   "outputs": [],
   "source": [
    "nano settings.py"
   ]
  },
  {
   "cell_type": "markdown",
   "id": "705b502e",
   "metadata": {},
   "source": [
    "09 Migración inicial\n",
    "\n",
    "Las migraciones que realiza django son la propagación de los cambios que se realizan a los modelos hacia el esquema de la base de datos, los cambios pueden incluir cambios en los modelos de la base de datos como agregar un campo, eliminar un modelo, u otros.\n",
    "\n",
    "Un modelo es básicamente una clase que representa una tabla o colección en la base de datos. Se podría pensar en la migración como un sistema de control de versiones para el esquema de la base de datos. Los archivos de migración de cada una app radican en un directorio de migración dentro de una app particular.\n",
    "\n",
    "En la mayoría de las ocasiones, las migraciones son diseñadas para ser automáticas pero es bueno saber cuándo hacer una migración y también cómo ejecutarlas.\n",
    "\n",
    "Hay diversos comandos que se pueden usar para interactuar con las migraciones y el manejo de django de los esquemas de la base de datos.\n",
    "\n",
    "**migrate**, que es el responsable de aplicar y desaplicar las migraciones.\n",
    "**makemigrations**, es el responsable de crear nuevas migraciones basado en los cambios realizados en los modelos.\n",
    "**sqlmigrate**, muestra las instrucciones sql de la migración.\n",
    "**showmigrations**, muestra una lista de los proyectos de migración y su estado.\n",
    "\n",
    "para ejecutar la migración inicial que django ha creado para nosotros se ejecuta el comando \n",
    "\n",
    "python manage.py migrate\n",
    "\n",
    "asegurándose previamente que el entorno virtual esta activado (**source venv/bin/activate**) y de que nos encontramos en el directorio que contiene el archivo manage.py"
   ]
  },
  {
   "cell_type": "markdown",
   "id": "0a80b973",
   "metadata": {},
   "source": [
    "Instalar el cliente de conexión de mysql (funciona para mariadb)"
   ]
  },
  {
   "cell_type": "code",
   "execution_count": null,
   "id": "76f133b1",
   "metadata": {},
   "outputs": [],
   "source": [
    "pip install mysqlclient"
   ]
  },
  {
   "cell_type": "code",
   "execution_count": null,
   "id": "b4e621f8",
   "metadata": {},
   "outputs": [],
   "source": [
    "python manage.py migrate"
   ]
  },
  {
   "cell_type": "markdown",
   "id": "dd2b0b02",
   "metadata": {},
   "source": [
    "El comando migrate, cuando es aplicado, crea varias tablas en la base de datos.\n",
    "\n",
    "La salida del comando es la siguiente:\n",
    "\n",
    "Operations to perform:\n",
    "  Apply all migrations: admin, auth, contenttypes, sessions\n",
    "Running migrations:\n",
    "  Applying contenttypes.0001_initial... OK\n",
    "  Applying auth.0001_initial... OK\n",
    "  Applying admin.0001_initial... OK\n",
    "  Applying admin.0002_logentry_remove_auto_add... OK\n",
    "  Applying admin.0003_logentry_add_action_flag_choices... OK\n",
    "  Applying contenttypes.0002_remove_content_type_name... OK\n",
    "  Applying auth.0002_alter_permission_name_max_length... OK\n",
    "  Applying auth.0003_alter_user_email_max_length... OK\n",
    "  Applying auth.0004_alter_user_username_opts... OK\n",
    "  Applying auth.0005_alter_user_last_login_null... OK\n",
    "  Applying auth.0006_require_contenttypes_0002... OK\n",
    "  Applying auth.0007_alter_validators_add_error_messages... OK\n",
    "  Applying auth.0008_alter_user_username_max_length... OK\n",
    "  Applying auth.0009_alter_user_last_name_max_length... OK\n",
    "  Applying auth.0010_alter_group_name_max_length... OK\n",
    "  Applying auth.0011_update_proxy_permissions... OK\n",
    "  Applying auth.0012_alter_user_first_name_max_length... OK\n",
    "  Applying sessions.0001_initial... OK\n",
    "\n",
    "Las tablas creadas despues de la migración inicial son:\n",
    "\n",
    "auth_groups: Almacena los grupos de autenticación.\n",
    "auth_groups_permissions: Almacena los permisos para los grupos de autenticación.\n",
    "auth_permission: Almacena los permisos para la autenticación.\n",
    "auth_user: Almacena la autenticación de los usuarios.\n",
    "auth_user_groups: Almacena la autenticación de grupos de usuarios.\n",
    "auth_user_groups_permissions: Almacena los permisos de autenticación de los grupos de usuarios.\n",
    "django_admin_log: Almacena la bitácora de administración de Django.\n",
    "django_content_type: Almacena los content types de Django.\n",
    "django_migrations: Almacena los scripts generados por las migraciones Django y la fecha y la hora en la cuál fueron aplicadas.\n",
    "django_session: Almacena las sesiones Django.\n",
    "\n",
    "\n",
    "\n",
    "\n"
   ]
  }
 ],
 "metadata": {
  "kernelspec": {
   "display_name": "Bash",
   "language": "bash",
   "name": "bash"
  },
  "language_info": {
   "codemirror_mode": "shell",
   "file_extension": ".sh",
   "mimetype": "text/x-sh",
   "name": "bash"
  }
 },
 "nbformat": 4,
 "nbformat_minor": 5
}
