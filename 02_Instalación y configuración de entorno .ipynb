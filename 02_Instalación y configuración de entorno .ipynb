{
 "cells": [
  {
   "cell_type": "markdown",
   "id": "1f3959f0",
   "metadata": {},
   "source": [
    "01 Preparar el entorno de instalación del servidor"
   ]
  },
  {
   "cell_type": "code",
   "execution_count": null,
   "id": "9f703074",
   "metadata": {},
   "outputs": [],
   "source": [
    "sudo nano /etc/apt/sources.list"
   ]
  },
  {
   "cell_type": "code",
   "execution_count": null,
   "id": "d11cba6f",
   "metadata": {},
   "outputs": [],
   "source": [
    "sudo apt-get update"
   ]
  },
  {
   "cell_type": "markdown",
   "id": "674ce645",
   "metadata": {},
   "source": [
    "02 Instalar el software de soporte, agregando PPA Personal Package Archiver"
   ]
  },
  {
   "cell_type": "code",
   "execution_count": null,
   "id": "bedced6e",
   "metadata": {},
   "outputs": [],
   "source": [
    "sudo apt install software-properties-common"
   ]
  },
  {
   "cell_type": "markdown",
   "id": "7c7a585c",
   "metadata": {},
   "source": [
    "03 agregar los deadsnakes que permiten agregar multiples versiones de python en el sistema"
   ]
  },
  {
   "cell_type": "markdown",
   "id": "3a129fab",
   "metadata": {},
   "source": [
    "04 Instalar Python"
   ]
  },
  {
   "cell_type": "code",
   "execution_count": null,
   "id": "aa57d41b",
   "metadata": {},
   "outputs": [],
   "source": [
    "sudo apt install python3.9"
   ]
  },
  {
   "cell_type": "code",
   "execution_count": null,
   "id": "4266bc9f",
   "metadata": {},
   "outputs": [],
   "source": [
    "python3.9 --version"
   ]
  },
  {
   "cell_type": "markdown",
   "id": "c13fb780",
   "metadata": {},
   "source": [
    "05 Instalar virtual environment para python"
   ]
  },
  {
   "cell_type": "code",
   "execution_count": null,
   "id": "fbe3c625",
   "metadata": {},
   "outputs": [],
   "source": [
    "sudo apt install python3-pip"
   ]
  },
  {
   "cell_type": "code",
   "execution_count": null,
   "id": "bac022b6",
   "metadata": {},
   "outputs": [],
   "source": [
    "pip3 --version"
   ]
  },
  {
   "cell_type": "code",
   "execution_count": null,
   "id": "f6330adf",
   "metadata": {},
   "outputs": [],
   "source": [
    "pip install virtualenv"
   ]
  },
  {
   "cell_type": "code",
   "execution_count": null,
   "id": "8de97628",
   "metadata": {},
   "outputs": [],
   "source": [
    "sudo apt install virtualenv"
   ]
  },
  {
   "cell_type": "markdown",
   "id": "e9c4eec6",
   "metadata": {},
   "source": [
    "06 Crear la carpeta de los ambientes virtuales"
   ]
  },
  {
   "cell_type": "code",
   "execution_count": null,
   "id": "b89c209d",
   "metadata": {},
   "outputs": [],
   "source": [
    "mkdir ~/python-environments && cd ~/python-environments"
   ]
  },
  {
   "cell_type": "markdown",
   "id": "1d06926b",
   "metadata": {},
   "source": [
    "07 Crear el directorio del proyecto"
   ]
  },
  {
   "cell_type": "code",
   "execution_count": null,
   "id": "1b9cff2c",
   "metadata": {},
   "outputs": [],
   "source": [
    "mkdir Proyectos"
   ]
  },
  {
   "cell_type": "code",
   "execution_count": null,
   "id": "6a47d026",
   "metadata": {},
   "outputs": [],
   "source": [
    "cd Proyectos"
   ]
  },
  {
   "cell_type": "code",
   "execution_count": null,
   "id": "70d8db8e",
   "metadata": {},
   "outputs": [],
   "source": [
    "mkdir countriesAPI"
   ]
  },
  {
   "cell_type": "code",
   "execution_count": null,
   "id": "b763b1cc",
   "metadata": {},
   "outputs": [],
   "source": [
    "cd countriesAPI"
   ]
  },
  {
   "cell_type": "markdown",
   "id": "5df9ae75",
   "metadata": {},
   "source": [
    "08 Crear un ambiente virtual para python"
   ]
  },
  {
   "cell_type": "code",
   "execution_count": null,
   "id": "59e1b94f",
   "metadata": {},
   "outputs": [],
   "source": [
    "virtualenv venv"
   ]
  },
  {
   "cell_type": "markdown",
   "id": "c6a6e194",
   "metadata": {},
   "source": [
    "09 Activar el ambiente virtual \n",
    "\n",
    "cuando se deje de usar el ambiente virtual, usar el comando  deactivate"
   ]
  },
  {
   "cell_type": "code",
   "execution_count": null,
   "id": "1f5e2ec1",
   "metadata": {},
   "outputs": [],
   "source": [
    "source venv/bin/activate"
   ]
  },
  {
   "cell_type": "markdown",
   "id": "f2335476",
   "metadata": {},
   "source": [
    "10 Instalar django"
   ]
  },
  {
   "cell_type": "code",
   "execution_count": null,
   "id": "fb783aa3",
   "metadata": {},
   "outputs": [],
   "source": [
    "python -m pip install --upgrade pip "
   ]
  },
  {
   "cell_type": "code",
   "execution_count": null,
   "id": "6aa047a1",
   "metadata": {},
   "outputs": [],
   "source": [
    "pip install django"
   ]
  },
  {
   "cell_type": "code",
   "execution_count": null,
   "id": "71f90077",
   "metadata": {},
   "outputs": [],
   "source": [
    "python -m django --version"
   ]
  },
  {
   "cell_type": "markdown",
   "id": "81081419",
   "metadata": {},
   "source": [
    "11 Instalar posgreSQL"
   ]
  },
  {
   "cell_type": "markdown",
   "id": "266cd91f",
   "metadata": {},
   "source": [
    "Crear el archivo de configuración del repositorio:"
   ]
  },
  {
   "cell_type": "code",
   "execution_count": null,
   "id": "7c9355bc",
   "metadata": {},
   "outputs": [],
   "source": [
    "sudo sh -c 'echo \"deb http://apt.postgresql.org/pub/repos/apt $(lsb_release -cs)-pgdg main\" > /etc/apt/sources.list.d/pgdg.list'"
   ]
  },
  {
   "cell_type": "markdown",
   "id": "2f7edc17",
   "metadata": {},
   "source": [
    "Importar la llave de firma del repositorio:"
   ]
  },
  {
   "cell_type": "code",
   "execution_count": null,
   "id": "d4fe7618",
   "metadata": {},
   "outputs": [],
   "source": [
    "wget --quiet -O - https://www.postgresql.org/media/keys/ACCC4CF8.asc | sudo apt-key add -"
   ]
  },
  {
   "cell_type": "markdown",
   "id": "de9f723f",
   "metadata": {},
   "source": [
    "Actualizar la lista de paquetes"
   ]
  },
  {
   "cell_type": "code",
   "execution_count": null,
   "id": "116964cf",
   "metadata": {},
   "outputs": [],
   "source": [
    "sudo apt-get update"
   ]
  },
  {
   "cell_type": "markdown",
   "id": "b2fee9e5",
   "metadata": {},
   "source": [
    "Instalar la ultima versión de posgreSQL (cambiando el número, es posible cambiar la versión)"
   ]
  },
  {
   "cell_type": "code",
   "execution_count": null,
   "id": "d1b3fff0",
   "metadata": {},
   "outputs": [],
   "source": [
    "sudo apt-get -y install postgresql-13"
   ]
  },
  {
   "cell_type": "markdown",
   "id": "e47d06b3",
   "metadata": {},
   "source": [
    "Ahora se puede iniciar el servidor usando:"
   ]
  },
  {
   "cell_type": "code",
   "execution_count": null,
   "id": "a3c1cc02",
   "metadata": {},
   "outputs": [],
   "source": [
    "sudo pg_ctlcluster 13 main start"
   ]
  },
  {
   "cell_type": "code",
   "execution_count": null,
   "id": "bb22f244",
   "metadata": {},
   "outputs": [],
   "source": [
    "apt show postgresql -a"
   ]
  },
  {
   "cell_type": "markdown",
   "id": "429c6dfd",
   "metadata": {},
   "source": [
    "12 Instalamos mysql (mariaDB)"
   ]
  },
  {
   "cell_type": "code",
   "execution_count": null,
   "id": "4ae7a94d",
   "metadata": {},
   "outputs": [],
   "source": [
    "sudo apt install mariadb-server"
   ]
  },
  {
   "cell_type": "markdown",
   "id": "87aeb4bd",
   "metadata": {},
   "source": [
    "inciamos el servidor MariaDB"
   ]
  },
  {
   "cell_type": "code",
   "execution_count": null,
   "id": "0ac34310",
   "metadata": {},
   "outputs": [],
   "source": [
    "sudo systemctl start mariadb"
   ]
  },
  {
   "cell_type": "markdown",
   "id": "64bda022",
   "metadata": {},
   "source": [
    "configuramos el servicios de forma automática de mariaDB"
   ]
  },
  {
   "cell_type": "code",
   "execution_count": null,
   "id": "e2d6f3a5",
   "metadata": {},
   "outputs": [],
   "source": [
    "sudo systemctl enable mariadb"
   ]
  },
  {
   "cell_type": "markdown",
   "id": "3874ef82",
   "metadata": {},
   "source": [
    "Realizamos la configuración de maria db ya que la instalacion por defecto es insegura"
   ]
  },
  {
   "cell_type": "code",
   "execution_count": null,
   "id": "553d0fa9",
   "metadata": {},
   "outputs": [],
   "source": [
    "sudo mysql_secure_installation"
   ]
  },
  {
   "cell_type": "markdown",
   "id": "d4fd97d1",
   "metadata": {},
   "source": [
    "Va a preguntar sobre una serie de cosas que se deben de configurar, así que dependiendo de lo que se vaya a usar hay que establecerlas.\n",
    "\n",
    "Para indicar ningun valor o el valor por defecto, presionar la tecla Enter. Para el laboratorio deberá configurar de la siguiente forma:\n",
    "\n",
    "%Set root password? Enter\n",
    "\n",
    "%Switch to unix_socket. Y\n",
    "\n",
    "%Change the root password? Y\n",
    "\n",
    "%Remove anonymous users? Y\n",
    "\n",
    "%Disallow root login remotely? Y\n",
    "\n",
    "%Remove test database access to it? Y\n",
    "\n",
    "%Reload privilege tables now? (Y/n)Y"
   ]
  },
  {
   "cell_type": "markdown",
   "id": "078e98a4",
   "metadata": {},
   "source": [
    "13 Instalar curl"
   ]
  },
  {
   "cell_type": "code",
   "execution_count": null,
   "id": "975e82d8",
   "metadata": {},
   "outputs": [],
   "source": [
    "sudo apt install curl"
   ]
  },
  {
   "cell_type": "markdown",
   "id": "1e7c7ba1",
   "metadata": {},
   "source": [
    "14 Instalar nodejs"
   ]
  },
  {
   "cell_type": "code",
   "execution_count": null,
   "id": "fec2b38b",
   "metadata": {},
   "outputs": [],
   "source": [
    "sudo apt update "
   ]
  },
  {
   "cell_type": "code",
   "execution_count": null,
   "id": "39fbfd3c",
   "metadata": {},
   "outputs": [],
   "source": [
    "sudo apt install nodejs npm "
   ]
  },
  {
   "cell_type": "markdown",
   "id": "ddfefe9f",
   "metadata": {},
   "source": [
    "verificar la version y el funcionamiento"
   ]
  },
  {
   "cell_type": "code",
   "execution_count": null,
   "id": "29276768",
   "metadata": {},
   "outputs": [],
   "source": [
    "node -v"
   ]
  },
  {
   "cell_type": "code",
   "execution_count": null,
   "id": "579a299f",
   "metadata": {},
   "outputs": [],
   "source": [
    "mkdir ~/pruebas"
   ]
  },
  {
   "cell_type": "code",
   "execution_count": null,
   "id": "14321072",
   "metadata": {},
   "outputs": [],
   "source": [
    "nano sample.js"
   ]
  },
  {
   "cell_type": "markdown",
   "id": "1a9545ca",
   "metadata": {},
   "source": [
    "Escribir dentro del editor de texto lo siguiente"
   ]
  },
  {
   "cell_type": "code",
   "execution_count": null,
   "id": "b2f48c3f",
   "metadata": {},
   "outputs": [],
   "source": [
    "const http = require('http');\n",
    "const hostname = 'localhost';\n",
    "const port = 3000;\n",
    " \n",
    "const server = http.createServer((req, res) => {\n",
    "  res.statusCode = 200;\n",
    "  res.setHeader('Content-Type', 'text/plain');\n",
    "  res.end('Hello World\\n');\n",
    "});\n",
    "  server.listen(port, hostname, () => {\n",
    "  console.log('Server running at http://${hostname}:${port}/');\n",
    "});\n"
   ]
  },
  {
   "cell_type": "markdown",
   "id": "1e57322b",
   "metadata": {},
   "source": [
    "Ejecutar el servidor"
   ]
  },
  {
   "cell_type": "code",
   "execution_count": null,
   "id": "a7d886f9",
   "metadata": {},
   "outputs": [],
   "source": [
    "node sample.js"
   ]
  },
  {
   "cell_type": "markdown",
   "id": "3cdf1a88",
   "metadata": {},
   "source": [
    "En otra terminal, ejecutar"
   ]
  },
  {
   "cell_type": "code",
   "execution_count": null,
   "id": "1cb95afa",
   "metadata": {},
   "outputs": [],
   "source": [
    "curl http://localhost:3000"
   ]
  },
  {
   "cell_type": "markdown",
   "id": "edd55935",
   "metadata": {},
   "source": [
    "Si todo va bien, deberiamos ver una respuesta positiva"
   ]
  },
  {
   "cell_type": "markdown",
   "id": "9b021bab",
   "metadata": {},
   "source": [
    "Ahora verificamos la versión de nmp"
   ]
  },
  {
   "cell_type": "code",
   "execution_count": null,
   "id": "97df237c",
   "metadata": {},
   "outputs": [],
   "source": [
    "npm -v"
   ]
  },
  {
   "cell_type": "markdown",
   "id": "96fc1521",
   "metadata": {},
   "source": [
    "podríamos instalar la versión mas reciente con el siguiente comando"
   ]
  },
  {
   "cell_type": "code",
   "execution_count": null,
   "id": "b15577ca",
   "metadata": {},
   "outputs": [],
   "source": [
    "sudo npm install -g npm@latest"
   ]
  },
  {
   "cell_type": "markdown",
   "id": "ba74941c",
   "metadata": {},
   "source": [
    "Ahora se requiere de una computadora cliente (Linux, Windows, etc) para poder testear la api que se desarrollará, e instalar el programa postman.\n",
    "\n",
    " https://www.postman.com/\n"
   ]
  },
  {
   "cell_type": "markdown",
   "id": "9b4067c6",
   "metadata": {},
   "source": [
    "A continuación se muestra la instalación en una máquina Linux.\n",
    "\n",
    "descomprimir y mover la carpeta Postman a /opt\n",
    "\n",
    "To install manually, download and unzip the app, for example into the opt directory. You will need sudo privileges.\n",
    "\n",
    "To start the app from a launcher icon, create a desktop file, naming it Postman.desktop and saving it in the following location:\n",
    "\n",
    "~/.local/share/applications/Postman.desktop\n"
   ]
  },
  {
   "cell_type": "code",
   "execution_count": null,
   "id": "c727d7d2",
   "metadata": {},
   "outputs": [],
   "source": [
    "cd ~/.local/share/applications/Postman.desktop"
   ]
  },
  {
   "cell_type": "code",
   "execution_count": null,
   "id": "50529293",
   "metadata": {},
   "outputs": [],
   "source": [
    "nano Postman.desktop "
   ]
  },
  {
   "cell_type": "markdown",
   "id": "0177823a",
   "metadata": {},
   "source": [
    "Escribir en el editor todo el texto siguiente"
   ]
  },
  {
   "cell_type": "code",
   "execution_count": null,
   "id": "2a329087",
   "metadata": {},
   "outputs": [],
   "source": [
    "[Desktop Entry]\n",
    "Encoding=UTF-8\n",
    "Name=Postman\n",
    "Exec=/opt/Postman/app/Postman %U\n",
    "Icon=/opt/Postman/app/resources/app/assets/icon.png\n",
    "Terminal=false\n",
    "Type=Application\n",
    "Categories=Development;"
   ]
  }
 ],
 "metadata": {
  "kernelspec": {
   "display_name": "Bash",
   "language": "bash",
   "name": "bash"
  },
  "language_info": {
   "codemirror_mode": "shell",
   "file_extension": ".sh",
   "mimetype": "text/x-sh",
   "name": "bash"
  }
 },
 "nbformat": 4,
 "nbformat_minor": 5
}
